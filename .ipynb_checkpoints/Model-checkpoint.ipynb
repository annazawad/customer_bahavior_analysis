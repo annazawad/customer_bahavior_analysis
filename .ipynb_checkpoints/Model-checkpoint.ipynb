{
 "cells": [
  {
   "cell_type": "markdown",
   "id": "3d0cf9ef",
   "metadata": {},
   "source": [
    "# Build model"
   ]
  },
  {
   "cell_type": "code",
   "execution_count": 7,
   "id": "192e4fcd",
   "metadata": {
    "scrolled": true
   },
   "outputs": [
    {
     "name": "stdout",
     "output_type": "stream",
     "text": [
      "Name: scikit-learn\n",
      "Version: 1.2.0\n",
      "Summary: A set of python modules for machine learning and data mining\n",
      "Home-page: http://scikit-learn.org\n",
      "Author: None\n",
      "Author-email: None\n",
      "License: new BSD\n",
      "Location: c:\\users\\azawada\\onedrive - capgemini\\desktop\\python_projects\\app_behavior_analysis\\myvenv\\lib\\site-packages\n",
      "Requires: scipy, joblib, threadpoolctl, numpy\n",
      "Required-by: \n"
     ]
    }
   ],
   "source": [
    "#! pip install sklearn\n",
    "#!pip show scikit-learn"
   ]
  },
  {
   "cell_type": "code",
   "execution_count": 8,
   "id": "7435b9e8",
   "metadata": {},
   "outputs": [],
   "source": [
    "from sklearn.model_selection import train_test_split"
   ]
  },
  {
   "cell_type": "code",
   "execution_count": 4,
   "id": "b57fec97",
   "metadata": {},
   "outputs": [],
   "source": [
    "import pandas as pd\n",
    "import numpy as np\n",
    "import time\n",
    "import seaborn as sns\n",
    "import matplotlib.pyplot as plt"
   ]
  },
  {
   "cell_type": "code",
   "execution_count": 9,
   "id": "2e75fe61",
   "metadata": {},
   "outputs": [],
   "source": [
    "dataset = pd.read_csv('cleaned_appdata.csv')"
   ]
  },
  {
   "cell_type": "markdown",
   "id": "8be3aff8",
   "metadata": {},
   "source": [
    "## Preparing data "
   ]
  },
  {
   "cell_type": "code",
   "execution_count": 10,
   "id": "d51e1bd8",
   "metadata": {},
   "outputs": [],
   "source": [
    "y = dataset['enrolled']\n",
    "X = dataset.drop(columns = 'enrolled')"
   ]
  },
  {
   "cell_type": "code",
   "execution_count": 12,
   "id": "801089ba",
   "metadata": {},
   "outputs": [],
   "source": [
    "X_train, X_test, y_train, y_test = train_test_split(X,y,test_size = 0.2, random_state = 42)"
   ]
  },
  {
   "cell_type": "code",
   "execution_count": 13,
   "id": "42980b90",
   "metadata": {},
   "outputs": [],
   "source": [
    "train_id = X_train['user']\n",
    "X_train.drop(columns = 'user', inplace = True)\n",
    "test_id = X_test['user']\n",
    "X_test.drop(columns = 'user', inplace = True)"
   ]
  },
  {
   "cell_type": "code",
   "execution_count": 16,
   "id": "602ad6f8",
   "metadata": {},
   "outputs": [],
   "source": [
    "from sklearn.preprocessing import StandardScaler\n",
    "sc = StandardScaler() #returns np array, looses columns name and indexes"
   ]
  },
  {
   "cell_type": "code",
   "execution_count": 18,
   "id": "8fabc94e",
   "metadata": {},
   "outputs": [],
   "source": [
    "#all below operations are to preserve the name of columns and indexes\n",
    "X_train_sc = pd.DataFrame(sc.fit_transform(X_train))\n",
    "X_test_sc = pd.DataFrame(sc.transform(X_test))\n",
    "X_train_sc.columns = X_train.columns.values\n",
    "X_test_sc.columns = X_test.columns.values\n",
    "X_train_sc.index = X_train.index.values\n",
    "X_test_sc.index = X_test.index.values"
   ]
  },
  {
   "cell_type": "markdown",
   "id": "120fc09f",
   "metadata": {},
   "source": [
    "## model - logistic regression classifier"
   ]
  },
  {
   "cell_type": "code",
   "execution_count": 20,
   "id": "4886361d",
   "metadata": {},
   "outputs": [
    {
     "data": {
      "text/html": [
       "<style>#sk-container-id-1 {color: black;background-color: white;}#sk-container-id-1 pre{padding: 0;}#sk-container-id-1 div.sk-toggleable {background-color: white;}#sk-container-id-1 label.sk-toggleable__label {cursor: pointer;display: block;width: 100%;margin-bottom: 0;padding: 0.3em;box-sizing: border-box;text-align: center;}#sk-container-id-1 label.sk-toggleable__label-arrow:before {content: \"▸\";float: left;margin-right: 0.25em;color: #696969;}#sk-container-id-1 label.sk-toggleable__label-arrow:hover:before {color: black;}#sk-container-id-1 div.sk-estimator:hover label.sk-toggleable__label-arrow:before {color: black;}#sk-container-id-1 div.sk-toggleable__content {max-height: 0;max-width: 0;overflow: hidden;text-align: left;background-color: #f0f8ff;}#sk-container-id-1 div.sk-toggleable__content pre {margin: 0.2em;color: black;border-radius: 0.25em;background-color: #f0f8ff;}#sk-container-id-1 input.sk-toggleable__control:checked~div.sk-toggleable__content {max-height: 200px;max-width: 100%;overflow: auto;}#sk-container-id-1 input.sk-toggleable__control:checked~label.sk-toggleable__label-arrow:before {content: \"▾\";}#sk-container-id-1 div.sk-estimator input.sk-toggleable__control:checked~label.sk-toggleable__label {background-color: #d4ebff;}#sk-container-id-1 div.sk-label input.sk-toggleable__control:checked~label.sk-toggleable__label {background-color: #d4ebff;}#sk-container-id-1 input.sk-hidden--visually {border: 0;clip: rect(1px 1px 1px 1px);clip: rect(1px, 1px, 1px, 1px);height: 1px;margin: -1px;overflow: hidden;padding: 0;position: absolute;width: 1px;}#sk-container-id-1 div.sk-estimator {font-family: monospace;background-color: #f0f8ff;border: 1px dotted black;border-radius: 0.25em;box-sizing: border-box;margin-bottom: 0.5em;}#sk-container-id-1 div.sk-estimator:hover {background-color: #d4ebff;}#sk-container-id-1 div.sk-parallel-item::after {content: \"\";width: 100%;border-bottom: 1px solid gray;flex-grow: 1;}#sk-container-id-1 div.sk-label:hover label.sk-toggleable__label {background-color: #d4ebff;}#sk-container-id-1 div.sk-serial::before {content: \"\";position: absolute;border-left: 1px solid gray;box-sizing: border-box;top: 0;bottom: 0;left: 50%;z-index: 0;}#sk-container-id-1 div.sk-serial {display: flex;flex-direction: column;align-items: center;background-color: white;padding-right: 0.2em;padding-left: 0.2em;position: relative;}#sk-container-id-1 div.sk-item {position: relative;z-index: 1;}#sk-container-id-1 div.sk-parallel {display: flex;align-items: stretch;justify-content: center;background-color: white;position: relative;}#sk-container-id-1 div.sk-item::before, #sk-container-id-1 div.sk-parallel-item::before {content: \"\";position: absolute;border-left: 1px solid gray;box-sizing: border-box;top: 0;bottom: 0;left: 50%;z-index: -1;}#sk-container-id-1 div.sk-parallel-item {display: flex;flex-direction: column;z-index: 1;position: relative;background-color: white;}#sk-container-id-1 div.sk-parallel-item:first-child::after {align-self: flex-end;width: 50%;}#sk-container-id-1 div.sk-parallel-item:last-child::after {align-self: flex-start;width: 50%;}#sk-container-id-1 div.sk-parallel-item:only-child::after {width: 0;}#sk-container-id-1 div.sk-dashed-wrapped {border: 1px dashed gray;margin: 0 0.4em 0.5em 0.4em;box-sizing: border-box;padding-bottom: 0.4em;background-color: white;}#sk-container-id-1 div.sk-label label {font-family: monospace;font-weight: bold;display: inline-block;line-height: 1.2em;}#sk-container-id-1 div.sk-label-container {text-align: center;}#sk-container-id-1 div.sk-container {/* jupyter's `normalize.less` sets `[hidden] { display: none; }` but bootstrap.min.css set `[hidden] { display: none !important; }` so we also need the `!important` here to be able to override the default hidden behavior on the sphinx rendered scikit-learn.org. See: https://github.com/scikit-learn/scikit-learn/issues/21755 */display: inline-block !important;position: relative;}#sk-container-id-1 div.sk-text-repr-fallback {display: none;}</style><div id=\"sk-container-id-1\" class=\"sk-top-container\"><div class=\"sk-text-repr-fallback\"><pre>LogisticRegression(random_state=42)</pre><b>In a Jupyter environment, please rerun this cell to show the HTML representation or trust the notebook. <br />On GitHub, the HTML representation is unable to render, please try loading this page with nbviewer.org.</b></div><div class=\"sk-container\" hidden><div class=\"sk-item\"><div class=\"sk-estimator sk-toggleable\"><input class=\"sk-toggleable__control sk-hidden--visually\" id=\"sk-estimator-id-1\" type=\"checkbox\" checked><label for=\"sk-estimator-id-1\" class=\"sk-toggleable__label sk-toggleable__label-arrow\">LogisticRegression</label><div class=\"sk-toggleable__content\"><pre>LogisticRegression(random_state=42)</pre></div></div></div></div></div>"
      ],
      "text/plain": [
       "LogisticRegression(random_state=42)"
      ]
     },
     "execution_count": 20,
     "metadata": {},
     "output_type": "execute_result"
    }
   ],
   "source": [
    "from sklearn.linear_model import LogisticRegression\n",
    "lrc = LogisticRegression(random_state = 42, penalty = 'l2')\n",
    "lrc.fit(X_train_sc,y_train)"
   ]
  },
  {
   "cell_type": "code",
   "execution_count": 21,
   "id": "3e3d85c0",
   "metadata": {},
   "outputs": [],
   "source": [
    "y_pred = lrc.predict(X_test_sc)"
   ]
  },
  {
   "cell_type": "code",
   "execution_count": 22,
   "id": "077b1050",
   "metadata": {},
   "outputs": [
    {
     "data": {
      "text/plain": [
       "0.7729"
      ]
     },
     "execution_count": 22,
     "metadata": {},
     "output_type": "execute_result"
    }
   ],
   "source": [
    "from sklearn.metrics import confusion_matrix, accuracy_score, f1_score, precision_score, recall_score\n",
    "cm = confusion_matrix(y_test, y_pred)\n",
    "accuracy_score(y_test,y_pred)"
   ]
  },
  {
   "cell_type": "code",
   "execution_count": 26,
   "id": "5faf41e8",
   "metadata": {},
   "outputs": [
    {
     "name": "stdout",
     "output_type": "stream",
     "text": [
      "For our model we got following model performance scores: \n",
      " accuracy: 0.7729,\n",
      " precision: 0.7625050020008003,\n",
      " recall: 0.7785495403472932,\n",
      " f1_score: 0.7704437481047205,\n",
      "\n"
     ]
    }
   ],
   "source": [
    "print(f'For our model we got following model performance scores: \\n accuracy: {accuracy_score(y_test,y_pred)},\\n precision: {precision_score(y_test,y_pred)},\\n recall: {recall_score(y_test,y_pred)},\\n f1_score: {f1_score(y_test,y_pred)},\\n')"
   ]
  },
  {
   "cell_type": "code",
   "execution_count": 28,
   "id": "a3fe7cb7",
   "metadata": {},
   "outputs": [
    {
     "data": {
      "text/plain": [
       "<AxesSubplot: >"
      ]
     },
     "execution_count": 28,
     "metadata": {},
     "output_type": "execute_result"
    },
    {
     "data": {
      "image/png": "[encoded data removed]",
      "text/plain": [
       "<Figure size 1000x700 with 2 Axes>"
      ]
     },
     "metadata": {},
     "output_type": "display_data"
    }
   ],
   "source": [
    "df_cm = pd.DataFrame(cm,index=(0,1),columns=(0,1))\n",
    "plt.figure(figsize=(10,7))\n",
    "sns.set(font_scale=1.4)\n",
    "sns.heatmap(df_cm, annot=True, fmt = 'g')"
   ]
  },
  {
   "cell_type": "markdown",
   "id": "71e08ac1",
   "metadata": {},
   "source": [
    "### cross validation  "
   ]
  },
  {
   "cell_type": "code",
   "execution_count": 31,
   "id": "101d91c4",
   "metadata": {},
   "outputs": [
    {
     "name": "stdout",
     "output_type": "stream",
     "text": [
      "Logistic Accuracy: 0.766 (+/- 0.012)\n"
     ]
    }
   ],
   "source": [
    "from sklearn.model_selection import cross_val_score\n",
    "accuracies = cross_val_score(estimator = lrc, X = X_train_sc, y = y_train, cv = 8)\n",
    "print('Logistic Accuracy: %0.3f (+/- %0.3f)' % (accuracies.mean(),accuracies.std() *2))"
   ]
  },
  {
   "cell_type": "markdown",
   "id": "7399b65f",
   "metadata": {},
   "source": [
    "## comparision of different classifiers "
   ]
  },
  {
   "cell_type": "code",
   "execution_count": 32,
   "id": "259da250",
   "metadata": {},
   "outputs": [],
   "source": [
    "from sklearn.pipeline import make_pipeline\n",
    "from sklearn.datasets import make_moons, make_circles, make_classification\n",
    "from sklearn.neural_network import MLPClassifier\n",
    "from sklearn.neighbors import KNeighborsClassifier\n",
    "from sklearn.svm import SVC\n",
    "from sklearn.gaussian_process import GaussianProcessClassifier\n",
    "from sklearn.gaussian_process.kernels import RBF\n",
    "from sklearn.tree import DecisionTreeClassifier\n",
    "from sklearn.ensemble import RandomForestClassifier, AdaBoostClassifier\n",
    "from sklearn.naive_bayes import GaussianNB\n",
    "from sklearn.discriminant_analysis import QuadraticDiscriminantAnalysis\n",
    "from sklearn.inspection import DecisionBoundaryDisplay"
   ]
  },
  {
   "cell_type": "code",
   "execution_count": 89,
   "id": "614ee1c0",
   "metadata": {},
   "outputs": [],
   "source": [
    "names = [\n",
    "    \"Nearest Neighbors\",\n",
    "    \"Linear SVM\",\n",
    "    \"RBF SVM\",\n",
    "\n",
    "    \"Decision Tree\",\n",
    "    \"Random Forest\",\n",
    "    \"Neural Net\",\n",
    "    \"AdaBoost\",\n",
    "    \"Naive Bayes\",\n",
    "    \"QDA\"\n",
    "]\n",
    "\n",
    "classifiers = [\n",
    "    KNeighborsClassifier(3),\n",
    "    SVC(kernel=\"linear\", C=0.025),\n",
    "    SVC(gamma=2, C=1),\n",
    "\n",
    "    DecisionTreeClassifier(max_depth=5),\n",
    "    RandomForestClassifier(max_depth=5, n_estimators=10, max_features=1),\n",
    "    MLPClassifier(alpha=1, max_iter=1000),\n",
    "    AdaBoostClassifier(),\n",
    "    GaussianNB(),\n",
    "    QuadraticDiscriminantAnalysis()\n",
    "]\n",
    "\n"
   ]
  },
  {
   "cell_type": "code",
   "execution_count": 103,
   "id": "23a64d6d",
   "metadata": {},
   "outputs": [
    {
     "data": {
      "text/plain": [
       "(10000, 48)"
      ]
     },
     "execution_count": 103,
     "metadata": {},
     "output_type": "execute_result"
    }
   ],
   "source": [
    "X_test_sc.to_numpy().shape"
   ]
  },
  {
   "cell_type": "code",
   "execution_count": 58,
   "id": "99dafb37",
   "metadata": {},
   "outputs": [
    {
     "data": {
      "text/plain": [
       "[0.7247, 0.7449, 0.5937, 0.7759, 0.7458, 0.7863, 0.7728, 0.722, 0.6972]"
      ]
     },
     "execution_count": 58,
     "metadata": {},
     "output_type": "execute_result"
    }
   ],
   "source": [
    "scores"
   ]
  },
  {
   "cell_type": "code",
   "execution_count": 104,
   "id": "6ff7f1ca",
   "metadata": {},
   "outputs": [
    {
     "name": "stdout",
     "output_type": "stream",
     "text": [
      "<class 'str'>\n"
     ]
    },
    {
     "name": "stderr",
     "output_type": "stream",
     "text": [
      "c:\\users\\azawada\\python\\lib\\site-packages\\sklearn\\base.py:409: UserWarning: X does not have valid feature names, but KNeighborsClassifier was fitted with feature names\n",
      "  warnings.warn(\n"
     ]
    },
    {
     "name": "stdout",
     "output_type": "stream",
     "text": [
      "<class 'str'>\n"
     ]
    },
    {
     "name": "stderr",
     "output_type": "stream",
     "text": [
      "c:\\users\\azawada\\python\\lib\\site-packages\\sklearn\\base.py:409: UserWarning: X does not have valid feature names, but SVC was fitted with feature names\n",
      "  warnings.warn(\n"
     ]
    },
    {
     "name": "stdout",
     "output_type": "stream",
     "text": [
      "<class 'str'>\n"
     ]
    },
    {
     "name": "stderr",
     "output_type": "stream",
     "text": [
      "c:\\users\\azawada\\python\\lib\\site-packages\\sklearn\\base.py:409: UserWarning: X does not have valid feature names, but SVC was fitted with feature names\n",
      "  warnings.warn(\n"
     ]
    },
    {
     "name": "stdout",
     "output_type": "stream",
     "text": [
      "<class 'str'>\n",
      "<class 'str'>\n",
      "<class 'str'>\n"
     ]
    },
    {
     "name": "stderr",
     "output_type": "stream",
     "text": [
      "c:\\users\\azawada\\python\\lib\\site-packages\\sklearn\\base.py:409: UserWarning: X does not have valid feature names, but DecisionTreeClassifier was fitted with feature names\n",
      "  warnings.warn(\n",
      "c:\\users\\azawada\\python\\lib\\site-packages\\sklearn\\base.py:409: UserWarning: X does not have valid feature names, but RandomForestClassifier was fitted with feature names\n",
      "  warnings.warn(\n",
      "c:\\users\\azawada\\python\\lib\\site-packages\\sklearn\\base.py:409: UserWarning: X does not have valid feature names, but MLPClassifier was fitted with feature names\n",
      "  warnings.warn(\n"
     ]
    },
    {
     "name": "stdout",
     "output_type": "stream",
     "text": [
      "<class 'str'>\n"
     ]
    },
    {
     "name": "stderr",
     "output_type": "stream",
     "text": [
      "c:\\users\\azawada\\python\\lib\\site-packages\\sklearn\\base.py:409: UserWarning: X does not have valid feature names, but AdaBoostClassifier was fitted with feature names\n",
      "  warnings.warn(\n",
      "c:\\users\\azawada\\python\\lib\\site-packages\\sklearn\\base.py:409: UserWarning: X does not have valid feature names, but GaussianNB was fitted with feature names\n",
      "  warnings.warn(\n"
     ]
    },
    {
     "name": "stdout",
     "output_type": "stream",
     "text": [
      "<class 'str'>\n",
      "<class 'str'>\n"
     ]
    },
    {
     "name": "stderr",
     "output_type": "stream",
     "text": [
      "c:\\users\\azawada\\python\\lib\\site-packages\\sklearn\\discriminant_analysis.py:926: UserWarning: Variables are collinear\n",
      "  warnings.warn(\"Variables are collinear\")\n",
      "c:\\users\\azawada\\python\\lib\\site-packages\\sklearn\\base.py:409: UserWarning: X does not have valid feature names, but QuadraticDiscriminantAnalysis was fitted with feature names\n",
      "  warnings.warn(\n"
     ]
    }
   ],
   "source": [
    "scores = dict()\n",
    "for name, clf in zip(names, classifiers):\n",
    "\n",
    "        clf.fit(X_train_sc, y_train)\n",
    "        score = clf.score(X_test_sc, y_test)\n",
    "        y_test = y_test.reshape(-1, 1)\n",
    "        y_pred = clf.predict(X_test_sc.to_numpy())\n",
    "        scores[name] = [score]\n",
    "        scores[name].append(accuracy_score(y_test,y_pred))\n",
    "        scores[name].append(precision_score(y_test,y_pred)) \n",
    "        scores[name].append(recall_score(y_test,y_pred)) \n",
    "        scores[name].append(f1_score(y_test,y_pred))\n"
   ]
  },
  {
   "cell_type": "code",
   "execution_count": 105,
   "id": "603d08e6",
   "metadata": {},
   "outputs": [
    {
     "name": "stdout",
     "output_type": "stream",
     "text": [
      "{'Nearest Neighbors': [0.7247, 0.7247, 0.7142, 0.7295199182839632, 0.7217786760990398], 'Linear SVM': [0.7449, 0.7449, 0.7098853868194842, 0.809805924412666, 0.7565607405286763], 'RBF SVM': [0.5937, 0.5937, 0.553224155578301, 0.8833503575076609, 0.6803555975139642], 'Decision Tree': [0.7759, 0.7759, 0.7836682342881574, 0.7489274770173646, 0.7659041052961454], 'Random Forest': [0.6965, 0.6965, 0.6872734595247684, 0.6972420837589377, 0.6922218841902444], 'Neural Net': [0.7852, 0.7852, 0.7900739176346356, 0.7642492339121553, 0.7769470404984424], 'AdaBoost': [0.7728, 0.7728, 0.7655395829115206, 0.772420837589377, 0.7689648159446818], 'Naive Bayes': [0.722, 0.722, 0.7265909577887294, 0.6927477017364658, 0.7092658439656976], 'QDA': [0.6972, 0.6972, 0.6725827324828989, 0.7432073544433095, 0.706133540372671]}\n"
     ]
    }
   ],
   "source": [
    "print(scores)"
   ]
  },
  {
   "cell_type": "code",
   "execution_count": 106,
   "id": "c0f3f92c",
   "metadata": {},
   "outputs": [],
   "source": [
    "df_scores = pd.DataFrame(scores)"
   ]
  },
  {
   "cell_type": "code",
   "execution_count": 107,
   "id": "5c3f8836",
   "metadata": {},
   "outputs": [
    {
     "data": {
      "text/html": [
       "<div>\n",
       "<style scoped>\n",
       "    .dataframe tbody tr th:only-of-type {\n",
       "        vertical-align: middle;\n",
       "    }\n",
       "\n",
       "    .dataframe tbody tr th {\n",
       "        vertical-align: top;\n",
       "    }\n",
       "\n",
       "    .dataframe thead th {\n",
       "        text-align: right;\n",
       "    }\n",
       "</style>\n",
       "<table border=\"1\" class=\"dataframe\">\n",
       "  <thead>\n",
       "    <tr style=\"text-align: right;\">\n",
       "      <th></th>\n",
       "      <th>Nearest Neighbors</th>\n",
       "      <th>Linear SVM</th>\n",
       "      <th>RBF SVM</th>\n",
       "      <th>Decision Tree</th>\n",
       "      <th>Random Forest</th>\n",
       "      <th>Neural Net</th>\n",
       "      <th>AdaBoost</th>\n",
       "      <th>Naive Bayes</th>\n",
       "      <th>QDA</th>\n",
       "    </tr>\n",
       "  </thead>\n",
       "  <tbody>\n",
       "    <tr>\n",
       "      <th>0</th>\n",
       "      <td>0.724700</td>\n",
       "      <td>0.744900</td>\n",
       "      <td>0.593700</td>\n",
       "      <td>0.775900</td>\n",
       "      <td>0.696500</td>\n",
       "      <td>0.785200</td>\n",
       "      <td>0.772800</td>\n",
       "      <td>0.722000</td>\n",
       "      <td>0.697200</td>\n",
       "    </tr>\n",
       "    <tr>\n",
       "      <th>1</th>\n",
       "      <td>0.724700</td>\n",
       "      <td>0.744900</td>\n",
       "      <td>0.593700</td>\n",
       "      <td>0.775900</td>\n",
       "      <td>0.696500</td>\n",
       "      <td>0.785200</td>\n",
       "      <td>0.772800</td>\n",
       "      <td>0.722000</td>\n",
       "      <td>0.697200</td>\n",
       "    </tr>\n",
       "    <tr>\n",
       "      <th>2</th>\n",
       "      <td>0.714200</td>\n",
       "      <td>0.709885</td>\n",
       "      <td>0.553224</td>\n",
       "      <td>0.783668</td>\n",
       "      <td>0.687273</td>\n",
       "      <td>0.790074</td>\n",
       "      <td>0.765540</td>\n",
       "      <td>0.726591</td>\n",
       "      <td>0.672583</td>\n",
       "    </tr>\n",
       "    <tr>\n",
       "      <th>3</th>\n",
       "      <td>0.729520</td>\n",
       "      <td>0.809806</td>\n",
       "      <td>0.883350</td>\n",
       "      <td>0.748927</td>\n",
       "      <td>0.697242</td>\n",
       "      <td>0.764249</td>\n",
       "      <td>0.772421</td>\n",
       "      <td>0.692748</td>\n",
       "      <td>0.743207</td>\n",
       "    </tr>\n",
       "    <tr>\n",
       "      <th>4</th>\n",
       "      <td>0.721779</td>\n",
       "      <td>0.756561</td>\n",
       "      <td>0.680356</td>\n",
       "      <td>0.765904</td>\n",
       "      <td>0.692222</td>\n",
       "      <td>0.776947</td>\n",
       "      <td>0.768965</td>\n",
       "      <td>0.709266</td>\n",
       "      <td>0.706134</td>\n",
       "    </tr>\n",
       "  </tbody>\n",
       "</table>\n",
       "</div>"
      ],
      "text/plain": [
       "   Nearest Neighbors  Linear SVM   RBF SVM  Decision Tree  Random Forest  \\\n",
       "0           0.724700    0.744900  0.593700       0.775900       0.696500   \n",
       "1           0.724700    0.744900  0.593700       0.775900       0.696500   \n",
       "2           0.714200    0.709885  0.553224       0.783668       0.687273   \n",
       "3           0.729520    0.809806  0.883350       0.748927       0.697242   \n",
       "4           0.721779    0.756561  0.680356       0.765904       0.692222   \n",
       "\n",
       "   Neural Net  AdaBoost  Naive Bayes       QDA  \n",
       "0    0.785200  0.772800     0.722000  0.697200  \n",
       "1    0.785200  0.772800     0.722000  0.697200  \n",
       "2    0.790074  0.765540     0.726591  0.672583  \n",
       "3    0.764249  0.772421     0.692748  0.743207  \n",
       "4    0.776947  0.768965     0.709266  0.706134  "
      ]
     },
     "execution_count": 107,
     "metadata": {},
     "output_type": "execute_result"
    }
   ],
   "source": [
    "df_scores"
   ]
  },
  {
   "cell_type": "code",
   "execution_count": 108,
   "id": "27b7c052",
   "metadata": {},
   "outputs": [],
   "source": [
    "df_scores['index'] = ['score', 'accuracy', 'precision','recall','f1']"
   ]
  },
  {
   "cell_type": "code",
   "execution_count": 109,
   "id": "a528a85b",
   "metadata": {},
   "outputs": [
    {
     "data": {
      "text/html": [
       "<div>\n",
       "<style scoped>\n",
       "    .dataframe tbody tr th:only-of-type {\n",
       "        vertical-align: middle;\n",
       "    }\n",
       "\n",
       "    .dataframe tbody tr th {\n",
       "        vertical-align: top;\n",
       "    }\n",
       "\n",
       "    .dataframe thead th {\n",
       "        text-align: right;\n",
       "    }\n",
       "</style>\n",
       "<table border=\"1\" class=\"dataframe\">\n",
       "  <thead>\n",
       "    <tr style=\"text-align: right;\">\n",
       "      <th></th>\n",
       "      <th>Nearest Neighbors</th>\n",
       "      <th>Linear SVM</th>\n",
       "      <th>RBF SVM</th>\n",
       "      <th>Decision Tree</th>\n",
       "      <th>Random Forest</th>\n",
       "      <th>Neural Net</th>\n",
       "      <th>AdaBoost</th>\n",
       "      <th>Naive Bayes</th>\n",
       "      <th>QDA</th>\n",
       "    </tr>\n",
       "    <tr>\n",
       "      <th>index</th>\n",
       "      <th></th>\n",
       "      <th></th>\n",
       "      <th></th>\n",
       "      <th></th>\n",
       "      <th></th>\n",
       "      <th></th>\n",
       "      <th></th>\n",
       "      <th></th>\n",
       "      <th></th>\n",
       "    </tr>\n",
       "  </thead>\n",
       "  <tbody>\n",
       "    <tr>\n",
       "      <th>score</th>\n",
       "      <td>0.724700</td>\n",
       "      <td>0.744900</td>\n",
       "      <td>0.593700</td>\n",
       "      <td>0.775900</td>\n",
       "      <td>0.696500</td>\n",
       "      <td>0.785200</td>\n",
       "      <td>0.772800</td>\n",
       "      <td>0.722000</td>\n",
       "      <td>0.697200</td>\n",
       "    </tr>\n",
       "    <tr>\n",
       "      <th>accuracy</th>\n",
       "      <td>0.724700</td>\n",
       "      <td>0.744900</td>\n",
       "      <td>0.593700</td>\n",
       "      <td>0.775900</td>\n",
       "      <td>0.696500</td>\n",
       "      <td>0.785200</td>\n",
       "      <td>0.772800</td>\n",
       "      <td>0.722000</td>\n",
       "      <td>0.697200</td>\n",
       "    </tr>\n",
       "    <tr>\n",
       "      <th>precision</th>\n",
       "      <td>0.714200</td>\n",
       "      <td>0.709885</td>\n",
       "      <td>0.553224</td>\n",
       "      <td>0.783668</td>\n",
       "      <td>0.687273</td>\n",
       "      <td>0.790074</td>\n",
       "      <td>0.765540</td>\n",
       "      <td>0.726591</td>\n",
       "      <td>0.672583</td>\n",
       "    </tr>\n",
       "    <tr>\n",
       "      <th>recall</th>\n",
       "      <td>0.729520</td>\n",
       "      <td>0.809806</td>\n",
       "      <td>0.883350</td>\n",
       "      <td>0.748927</td>\n",
       "      <td>0.697242</td>\n",
       "      <td>0.764249</td>\n",
       "      <td>0.772421</td>\n",
       "      <td>0.692748</td>\n",
       "      <td>0.743207</td>\n",
       "    </tr>\n",
       "    <tr>\n",
       "      <th>f1</th>\n",
       "      <td>0.721779</td>\n",
       "      <td>0.756561</td>\n",
       "      <td>0.680356</td>\n",
       "      <td>0.765904</td>\n",
       "      <td>0.692222</td>\n",
       "      <td>0.776947</td>\n",
       "      <td>0.768965</td>\n",
       "      <td>0.709266</td>\n",
       "      <td>0.706134</td>\n",
       "    </tr>\n",
       "  </tbody>\n",
       "</table>\n",
       "</div>"
      ],
      "text/plain": [
       "           Nearest Neighbors  Linear SVM   RBF SVM  Decision Tree  \\\n",
       "index                                                               \n",
       "score               0.724700    0.744900  0.593700       0.775900   \n",
       "accuracy            0.724700    0.744900  0.593700       0.775900   \n",
       "precision           0.714200    0.709885  0.553224       0.783668   \n",
       "recall              0.729520    0.809806  0.883350       0.748927   \n",
       "f1                  0.721779    0.756561  0.680356       0.765904   \n",
       "\n",
       "           Random Forest  Neural Net  AdaBoost  Naive Bayes       QDA  \n",
       "index                                                                  \n",
       "score           0.696500    0.785200  0.772800     0.722000  0.697200  \n",
       "accuracy        0.696500    0.785200  0.772800     0.722000  0.697200  \n",
       "precision       0.687273    0.790074  0.765540     0.726591  0.672583  \n",
       "recall          0.697242    0.764249  0.772421     0.692748  0.743207  \n",
       "f1              0.692222    0.776947  0.768965     0.709266  0.706134  "
      ]
     },
     "execution_count": 109,
     "metadata": {},
     "output_type": "execute_result"
    }
   ],
   "source": [
    "df_scores.set_index('index')"
   ]
  },
  {
   "cell_type": "code",
   "execution_count": 110,
   "id": "1cefb554",
   "metadata": {},
   "outputs": [
    {
     "data": {
      "text/html": [
       "<div>\n",
       "<style scoped>\n",
       "    .dataframe tbody tr th:only-of-type {\n",
       "        vertical-align: middle;\n",
       "    }\n",
       "\n",
       "    .dataframe tbody tr th {\n",
       "        vertical-align: top;\n",
       "    }\n",
       "\n",
       "    .dataframe thead th {\n",
       "        text-align: right;\n",
       "    }\n",
       "</style>\n",
       "<table border=\"1\" class=\"dataframe\">\n",
       "  <thead>\n",
       "    <tr style=\"text-align: right;\">\n",
       "      <th></th>\n",
       "      <th>Nearest Neighbors</th>\n",
       "      <th>Linear SVM</th>\n",
       "      <th>RBF SVM</th>\n",
       "      <th>Decision Tree</th>\n",
       "      <th>Random Forest</th>\n",
       "      <th>Neural Net</th>\n",
       "      <th>AdaBoost</th>\n",
       "      <th>Naive Bayes</th>\n",
       "      <th>QDA</th>\n",
       "    </tr>\n",
       "  </thead>\n",
       "  <tbody>\n",
       "    <tr>\n",
       "      <th>count</th>\n",
       "      <td>5.000000</td>\n",
       "      <td>5.000000</td>\n",
       "      <td>5.000000</td>\n",
       "      <td>5.000000</td>\n",
       "      <td>5.000000</td>\n",
       "      <td>5.000000</td>\n",
       "      <td>5.000000</td>\n",
       "      <td>5.000000</td>\n",
       "      <td>5.000000</td>\n",
       "    </tr>\n",
       "    <tr>\n",
       "      <th>mean</th>\n",
       "      <td>0.722980</td>\n",
       "      <td>0.753210</td>\n",
       "      <td>0.660866</td>\n",
       "      <td>0.770060</td>\n",
       "      <td>0.693947</td>\n",
       "      <td>0.780334</td>\n",
       "      <td>0.770505</td>\n",
       "      <td>0.714521</td>\n",
       "      <td>0.703265</td>\n",
       "    </tr>\n",
       "    <tr>\n",
       "      <th>std</th>\n",
       "      <td>0.005640</td>\n",
       "      <td>0.036158</td>\n",
       "      <td>0.132748</td>\n",
       "      <td>0.013391</td>\n",
       "      <td>0.004225</td>\n",
       "      <td>0.010154</td>\n",
       "      <td>0.003211</td>\n",
       "      <td>0.013777</td>\n",
       "      <td>0.025586</td>\n",
       "    </tr>\n",
       "    <tr>\n",
       "      <th>min</th>\n",
       "      <td>0.714200</td>\n",
       "      <td>0.709885</td>\n",
       "      <td>0.553224</td>\n",
       "      <td>0.748927</td>\n",
       "      <td>0.687273</td>\n",
       "      <td>0.764249</td>\n",
       "      <td>0.765540</td>\n",
       "      <td>0.692748</td>\n",
       "      <td>0.672583</td>\n",
       "    </tr>\n",
       "    <tr>\n",
       "      <th>25%</th>\n",
       "      <td>0.721779</td>\n",
       "      <td>0.744900</td>\n",
       "      <td>0.593700</td>\n",
       "      <td>0.765904</td>\n",
       "      <td>0.692222</td>\n",
       "      <td>0.776947</td>\n",
       "      <td>0.768965</td>\n",
       "      <td>0.709266</td>\n",
       "      <td>0.697200</td>\n",
       "    </tr>\n",
       "    <tr>\n",
       "      <th>50%</th>\n",
       "      <td>0.724700</td>\n",
       "      <td>0.744900</td>\n",
       "      <td>0.593700</td>\n",
       "      <td>0.775900</td>\n",
       "      <td>0.696500</td>\n",
       "      <td>0.785200</td>\n",
       "      <td>0.772421</td>\n",
       "      <td>0.722000</td>\n",
       "      <td>0.697200</td>\n",
       "    </tr>\n",
       "    <tr>\n",
       "      <th>75%</th>\n",
       "      <td>0.724700</td>\n",
       "      <td>0.756561</td>\n",
       "      <td>0.680356</td>\n",
       "      <td>0.775900</td>\n",
       "      <td>0.696500</td>\n",
       "      <td>0.785200</td>\n",
       "      <td>0.772800</td>\n",
       "      <td>0.722000</td>\n",
       "      <td>0.706134</td>\n",
       "    </tr>\n",
       "    <tr>\n",
       "      <th>max</th>\n",
       "      <td>0.729520</td>\n",
       "      <td>0.809806</td>\n",
       "      <td>0.883350</td>\n",
       "      <td>0.783668</td>\n",
       "      <td>0.697242</td>\n",
       "      <td>0.790074</td>\n",
       "      <td>0.772800</td>\n",
       "      <td>0.726591</td>\n",
       "      <td>0.743207</td>\n",
       "    </tr>\n",
       "  </tbody>\n",
       "</table>\n",
       "</div>"
      ],
      "text/plain": [
       "       Nearest Neighbors  Linear SVM   RBF SVM  Decision Tree  Random Forest  \\\n",
       "count           5.000000    5.000000  5.000000       5.000000       5.000000   \n",
       "mean            0.722980    0.753210  0.660866       0.770060       0.693947   \n",
       "std             0.005640    0.036158  0.132748       0.013391       0.004225   \n",
       "min             0.714200    0.709885  0.553224       0.748927       0.687273   \n",
       "25%             0.721779    0.744900  0.593700       0.765904       0.692222   \n",
       "50%             0.724700    0.744900  0.593700       0.775900       0.696500   \n",
       "75%             0.724700    0.756561  0.680356       0.775900       0.696500   \n",
       "max             0.729520    0.809806  0.883350       0.783668       0.697242   \n",
       "\n",
       "       Neural Net  AdaBoost  Naive Bayes       QDA  \n",
       "count    5.000000  5.000000     5.000000  5.000000  \n",
       "mean     0.780334  0.770505     0.714521  0.703265  \n",
       "std      0.010154  0.003211     0.013777  0.025586  \n",
       "min      0.764249  0.765540     0.692748  0.672583  \n",
       "25%      0.776947  0.768965     0.709266  0.697200  \n",
       "50%      0.785200  0.772421     0.722000  0.697200  \n",
       "75%      0.785200  0.772800     0.722000  0.706134  \n",
       "max      0.790074  0.772800     0.726591  0.743207  "
      ]
     },
     "execution_count": 110,
     "metadata": {},
     "output_type": "execute_result"
    }
   ],
   "source": [
    "df_scores.describe()"
   ]
  },
  {
   "cell_type": "markdown",
   "id": "d966d199",
   "metadata": {},
   "source": [
    "## Grid Search for 2 the most promising"
   ]
  },
  {
   "cell_type": "markdown",
   "id": "cefe4cfb",
   "metadata": {},
   "source": [
    "### Grid Search for AdaBoost Classifier"
   ]
  },
  {
   "cell_type": "code",
   "execution_count": 112,
   "id": "c52367f1",
   "metadata": {},
   "outputs": [],
   "source": [
    "from sklearn.model_selection import GridSearchCV\n",
    "\n",
    "params = {'n_estimators':[20,50,100,300], 'learning_rate':[0.01, 1,10]}\n",
    "ada = AdaBoostClassifier()\n",
    "\n",
    "grid = GridSearchCV(estimator=ada,\n",
    "             param_grid=params, verbose=1)"
   ]
  },
  {
   "cell_type": "code",
   "execution_count": 113,
   "id": "779eb38e",
   "metadata": {},
   "outputs": [
    {
     "name": "stdout",
     "output_type": "stream",
     "text": [
      "Fitting 5 folds for each of 12 candidates, totalling 60 fits\n"
     ]
    },
    {
     "data": {
      "text/html": [
       "<style>#sk-container-id-3 {color: black;background-color: white;}#sk-container-id-3 pre{padding: 0;}#sk-container-id-3 div.sk-toggleable {background-color: white;}#sk-container-id-3 label.sk-toggleable__label {cursor: pointer;display: block;width: 100%;margin-bottom: 0;padding: 0.3em;box-sizing: border-box;text-align: center;}#sk-container-id-3 label.sk-toggleable__label-arrow:before {content: \"▸\";float: left;margin-right: 0.25em;color: #696969;}#sk-container-id-3 label.sk-toggleable__label-arrow:hover:before {color: black;}#sk-container-id-3 div.sk-estimator:hover label.sk-toggleable__label-arrow:before {color: black;}#sk-container-id-3 div.sk-toggleable__content {max-height: 0;max-width: 0;overflow: hidden;text-align: left;background-color: #f0f8ff;}#sk-container-id-3 div.sk-toggleable__content pre {margin: 0.2em;color: black;border-radius: 0.25em;background-color: #f0f8ff;}#sk-container-id-3 input.sk-toggleable__control:checked~div.sk-toggleable__content {max-height: 200px;max-width: 100%;overflow: auto;}#sk-container-id-3 input.sk-toggleable__control:checked~label.sk-toggleable__label-arrow:before {content: \"▾\";}#sk-container-id-3 div.sk-estimator input.sk-toggleable__control:checked~label.sk-toggleable__label {background-color: #d4ebff;}#sk-container-id-3 div.sk-label input.sk-toggleable__control:checked~label.sk-toggleable__label {background-color: #d4ebff;}#sk-container-id-3 input.sk-hidden--visually {border: 0;clip: rect(1px 1px 1px 1px);clip: rect(1px, 1px, 1px, 1px);height: 1px;margin: -1px;overflow: hidden;padding: 0;position: absolute;width: 1px;}#sk-container-id-3 div.sk-estimator {font-family: monospace;background-color: #f0f8ff;border: 1px dotted black;border-radius: 0.25em;box-sizing: border-box;margin-bottom: 0.5em;}#sk-container-id-3 div.sk-estimator:hover {background-color: #d4ebff;}#sk-container-id-3 div.sk-parallel-item::after {content: \"\";width: 100%;border-bottom: 1px solid gray;flex-grow: 1;}#sk-container-id-3 div.sk-label:hover label.sk-toggleable__label {background-color: #d4ebff;}#sk-container-id-3 div.sk-serial::before {content: \"\";position: absolute;border-left: 1px solid gray;box-sizing: border-box;top: 0;bottom: 0;left: 50%;z-index: 0;}#sk-container-id-3 div.sk-serial {display: flex;flex-direction: column;align-items: center;background-color: white;padding-right: 0.2em;padding-left: 0.2em;position: relative;}#sk-container-id-3 div.sk-item {position: relative;z-index: 1;}#sk-container-id-3 div.sk-parallel {display: flex;align-items: stretch;justify-content: center;background-color: white;position: relative;}#sk-container-id-3 div.sk-item::before, #sk-container-id-3 div.sk-parallel-item::before {content: \"\";position: absolute;border-left: 1px solid gray;box-sizing: border-box;top: 0;bottom: 0;left: 50%;z-index: -1;}#sk-container-id-3 div.sk-parallel-item {display: flex;flex-direction: column;z-index: 1;position: relative;background-color: white;}#sk-container-id-3 div.sk-parallel-item:first-child::after {align-self: flex-end;width: 50%;}#sk-container-id-3 div.sk-parallel-item:last-child::after {align-self: flex-start;width: 50%;}#sk-container-id-3 div.sk-parallel-item:only-child::after {width: 0;}#sk-container-id-3 div.sk-dashed-wrapped {border: 1px dashed gray;margin: 0 0.4em 0.5em 0.4em;box-sizing: border-box;padding-bottom: 0.4em;background-color: white;}#sk-container-id-3 div.sk-label label {font-family: monospace;font-weight: bold;display: inline-block;line-height: 1.2em;}#sk-container-id-3 div.sk-label-container {text-align: center;}#sk-container-id-3 div.sk-container {/* jupyter's `normalize.less` sets `[hidden] { display: none; }` but bootstrap.min.css set `[hidden] { display: none !important; }` so we also need the `!important` here to be able to override the default hidden behavior on the sphinx rendered scikit-learn.org. See: https://github.com/scikit-learn/scikit-learn/issues/21755 */display: inline-block !important;position: relative;}#sk-container-id-3 div.sk-text-repr-fallback {display: none;}</style><div id=\"sk-container-id-3\" class=\"sk-top-container\"><div class=\"sk-text-repr-fallback\"><pre>GridSearchCV(estimator=AdaBoostClassifier(),\n",
       "             param_grid={&#x27;learning_rate&#x27;: [0.01, 1, 10],\n",
       "                         &#x27;n_estimators&#x27;: [20, 50, 100, 300]},\n",
       "             verbose=1)</pre><b>In a Jupyter environment, please rerun this cell to show the HTML representation or trust the notebook. <br />On GitHub, the HTML representation is unable to render, please try loading this page with nbviewer.org.</b></div><div class=\"sk-container\" hidden><div class=\"sk-item sk-dashed-wrapped\"><div class=\"sk-label-container\"><div class=\"sk-label sk-toggleable\"><input class=\"sk-toggleable__control sk-hidden--visually\" id=\"sk-estimator-id-5\" type=\"checkbox\" ><label for=\"sk-estimator-id-5\" class=\"sk-toggleable__label sk-toggleable__label-arrow\">GridSearchCV</label><div class=\"sk-toggleable__content\"><pre>GridSearchCV(estimator=AdaBoostClassifier(),\n",
       "             param_grid={&#x27;learning_rate&#x27;: [0.01, 1, 10],\n",
       "                         &#x27;n_estimators&#x27;: [20, 50, 100, 300]},\n",
       "             verbose=1)</pre></div></div></div><div class=\"sk-parallel\"><div class=\"sk-parallel-item\"><div class=\"sk-item\"><div class=\"sk-label-container\"><div class=\"sk-label sk-toggleable\"><input class=\"sk-toggleable__control sk-hidden--visually\" id=\"sk-estimator-id-6\" type=\"checkbox\" ><label for=\"sk-estimator-id-6\" class=\"sk-toggleable__label sk-toggleable__label-arrow\">estimator: AdaBoostClassifier</label><div class=\"sk-toggleable__content\"><pre>AdaBoostClassifier()</pre></div></div></div><div class=\"sk-serial\"><div class=\"sk-item\"><div class=\"sk-estimator sk-toggleable\"><input class=\"sk-toggleable__control sk-hidden--visually\" id=\"sk-estimator-id-7\" type=\"checkbox\" ><label for=\"sk-estimator-id-7\" class=\"sk-toggleable__label sk-toggleable__label-arrow\">AdaBoostClassifier</label><div class=\"sk-toggleable__content\"><pre>AdaBoostClassifier()</pre></div></div></div></div></div></div></div></div></div></div>"
      ],
      "text/plain": [
       "GridSearchCV(estimator=AdaBoostClassifier(),\n",
       "             param_grid={'learning_rate': [0.01, 1, 10],\n",
       "                         'n_estimators': [20, 50, 100, 300]},\n",
       "             verbose=1)"
      ]
     },
     "execution_count": 113,
     "metadata": {},
     "output_type": "execute_result"
    }
   ],
   "source": [
    "grid.fit(X_train_sc, y_train)"
   ]
  },
  {
   "cell_type": "code",
   "execution_count": 115,
   "id": "14ac015f",
   "metadata": {},
   "outputs": [
    {
     "data": {
      "text/plain": [
       "0.76665"
      ]
     },
     "execution_count": 115,
     "metadata": {},
     "output_type": "execute_result"
    }
   ],
   "source": [
    "grid.best_score_ "
   ]
  },
  {
   "cell_type": "markdown",
   "id": "b43637fc",
   "metadata": {},
   "source": [
    "### Grid Search for NN Classifier "
   ]
  },
  {
   "cell_type": "code",
   "execution_count": 122,
   "id": "d86da81a",
   "metadata": {},
   "outputs": [
    {
     "name": "stdout",
     "output_type": "stream",
     "text": [
      "Fitting 5 folds for each of 40 candidates, totalling 200 fits\n"
     ]
    },
    {
     "name": "stderr",
     "output_type": "stream",
     "text": [
      "c:\\users\\azawada\\python\\lib\\site-packages\\sklearn\\neural_network\\_multilayer_perceptron.py:679: ConvergenceWarning: Stochastic Optimizer: Maximum iterations (50) reached and the optimization hasn't converged yet.\n",
      "  warnings.warn(\n"
     ]
    },
    {
     "name": "stdout",
     "output_type": "stream",
     "text": [
      "[CV] END ...alpha=0.001, learning_rate=adaptive, max_iter=50; total time=   6.0s\n"
     ]
    },
    {
     "name": "stderr",
     "output_type": "stream",
     "text": [
      "c:\\users\\azawada\\python\\lib\\site-packages\\sklearn\\neural_network\\_multilayer_perceptron.py:679: ConvergenceWarning: Stochastic Optimizer: Maximum iterations (50) reached and the optimization hasn't converged yet.\n",
      "  warnings.warn(\n"
     ]
    },
    {
     "name": "stdout",
     "output_type": "stream",
     "text": [
      "[CV] END ...alpha=0.001, learning_rate=adaptive, max_iter=50; total time=   6.3s\n"
     ]
    },
    {
     "name": "stderr",
     "output_type": "stream",
     "text": [
      "c:\\users\\azawada\\python\\lib\\site-packages\\sklearn\\neural_network\\_multilayer_perceptron.py:679: ConvergenceWarning: Stochastic Optimizer: Maximum iterations (50) reached and the optimization hasn't converged yet.\n",
      "  warnings.warn(\n"
     ]
    },
    {
     "name": "stdout",
     "output_type": "stream",
     "text": [
      "[CV] END ...alpha=0.001, learning_rate=adaptive, max_iter=50; total time=   5.9s\n"
     ]
    },
    {
     "name": "stderr",
     "output_type": "stream",
     "text": [
      "c:\\users\\azawada\\python\\lib\\site-packages\\sklearn\\neural_network\\_multilayer_perceptron.py:679: ConvergenceWarning: Stochastic Optimizer: Maximum iterations (50) reached and the optimization hasn't converged yet.\n",
      "  warnings.warn(\n"
     ]
    },
    {
     "name": "stdout",
     "output_type": "stream",
     "text": [
      "[CV] END ...alpha=0.001, learning_rate=adaptive, max_iter=50; total time=   5.6s\n"
     ]
    },
    {
     "name": "stderr",
     "output_type": "stream",
     "text": [
      "c:\\users\\azawada\\python\\lib\\site-packages\\sklearn\\neural_network\\_multilayer_perceptron.py:679: ConvergenceWarning: Stochastic Optimizer: Maximum iterations (50) reached and the optimization hasn't converged yet.\n",
      "  warnings.warn(\n"
     ]
    },
    {
     "name": "stdout",
     "output_type": "stream",
     "text": [
      "[CV] END ...alpha=0.001, learning_rate=adaptive, max_iter=50; total time=   5.6s\n"
     ]
    },
    {
     "name": "stderr",
     "output_type": "stream",
     "text": [
      "c:\\users\\azawada\\python\\lib\\site-packages\\sklearn\\neural_network\\_multilayer_perceptron.py:679: ConvergenceWarning: Stochastic Optimizer: Maximum iterations (100) reached and the optimization hasn't converged yet.\n",
      "  warnings.warn(\n"
     ]
    },
    {
     "name": "stdout",
     "output_type": "stream",
     "text": [
      "[CV] END ..alpha=0.001, learning_rate=adaptive, max_iter=100; total time=  11.4s\n"
     ]
    },
    {
     "name": "stderr",
     "output_type": "stream",
     "text": [
      "c:\\users\\azawada\\python\\lib\\site-packages\\sklearn\\neural_network\\_multilayer_perceptron.py:679: ConvergenceWarning: Stochastic Optimizer: Maximum iterations (100) reached and the optimization hasn't converged yet.\n",
      "  warnings.warn(\n"
     ]
    },
    {
     "name": "stdout",
     "output_type": "stream",
     "text": [
      "[CV] END ..alpha=0.001, learning_rate=adaptive, max_iter=100; total time=  11.3s\n"
     ]
    },
    {
     "name": "stderr",
     "output_type": "stream",
     "text": [
      "c:\\users\\azawada\\python\\lib\\site-packages\\sklearn\\neural_network\\_multilayer_perceptron.py:679: ConvergenceWarning: Stochastic Optimizer: Maximum iterations (100) reached and the optimization hasn't converged yet.\n",
      "  warnings.warn(\n"
     ]
    },
    {
     "name": "stdout",
     "output_type": "stream",
     "text": [
      "[CV] END ..alpha=0.001, learning_rate=adaptive, max_iter=100; total time=  11.2s\n"
     ]
    },
    {
     "name": "stderr",
     "output_type": "stream",
     "text": [
      "c:\\users\\azawada\\python\\lib\\site-packages\\sklearn\\neural_network\\_multilayer_perceptron.py:679: ConvergenceWarning: Stochastic Optimizer: Maximum iterations (100) reached and the optimization hasn't converged yet.\n",
      "  warnings.warn(\n"
     ]
    },
    {
     "name": "stdout",
     "output_type": "stream",
     "text": [
      "[CV] END ..alpha=0.001, learning_rate=adaptive, max_iter=100; total time=  11.5s\n"
     ]
    },
    {
     "name": "stderr",
     "output_type": "stream",
     "text": [
      "c:\\users\\azawada\\python\\lib\\site-packages\\sklearn\\neural_network\\_multilayer_perceptron.py:679: ConvergenceWarning: Stochastic Optimizer: Maximum iterations (100) reached and the optimization hasn't converged yet.\n",
      "  warnings.warn(\n"
     ]
    },
    {
     "name": "stdout",
     "output_type": "stream",
     "text": [
      "[CV] END ..alpha=0.001, learning_rate=adaptive, max_iter=100; total time=  11.2s\n"
     ]
    },
    {
     "name": "stderr",
     "output_type": "stream",
     "text": [
      "c:\\users\\azawada\\python\\lib\\site-packages\\sklearn\\neural_network\\_multilayer_perceptron.py:679: ConvergenceWarning: Stochastic Optimizer: Maximum iterations (300) reached and the optimization hasn't converged yet.\n",
      "  warnings.warn(\n"
     ]
    },
    {
     "name": "stdout",
     "output_type": "stream",
     "text": [
      "[CV] END ..alpha=0.001, learning_rate=adaptive, max_iter=300; total time=  38.4s\n",
      "[CV] END ..alpha=0.001, learning_rate=adaptive, max_iter=300; total time=  32.5s\n"
     ]
    },
    {
     "name": "stderr",
     "output_type": "stream",
     "text": [
      "c:\\users\\azawada\\python\\lib\\site-packages\\sklearn\\neural_network\\_multilayer_perceptron.py:679: ConvergenceWarning: Stochastic Optimizer: Maximum iterations (300) reached and the optimization hasn't converged yet.\n",
      "  warnings.warn(\n"
     ]
    },
    {
     "name": "stdout",
     "output_type": "stream",
     "text": [
      "[CV] END ..alpha=0.001, learning_rate=adaptive, max_iter=300; total time=  33.7s\n"
     ]
    },
    {
     "name": "stderr",
     "output_type": "stream",
     "text": [
      "c:\\users\\azawada\\python\\lib\\site-packages\\sklearn\\neural_network\\_multilayer_perceptron.py:679: ConvergenceWarning: Stochastic Optimizer: Maximum iterations (300) reached and the optimization hasn't converged yet.\n",
      "  warnings.warn(\n"
     ]
    },
    {
     "name": "stdout",
     "output_type": "stream",
     "text": [
      "[CV] END ..alpha=0.001, learning_rate=adaptive, max_iter=300; total time=  37.3s\n"
     ]
    },
    {
     "name": "stderr",
     "output_type": "stream",
     "text": [
      "c:\\users\\azawada\\python\\lib\\site-packages\\sklearn\\neural_network\\_multilayer_perceptron.py:679: ConvergenceWarning: Stochastic Optimizer: Maximum iterations (300) reached and the optimization hasn't converged yet.\n",
      "  warnings.warn(\n"
     ]
    },
    {
     "name": "stdout",
     "output_type": "stream",
     "text": [
      "[CV] END ..alpha=0.001, learning_rate=adaptive, max_iter=300; total time=  36.2s\n",
      "[CV] END ..alpha=0.001, learning_rate=adaptive, max_iter=500; total time=  45.7s\n",
      "[CV] END ..alpha=0.001, learning_rate=adaptive, max_iter=500; total time=  49.2s\n",
      "[CV] END ..alpha=0.001, learning_rate=adaptive, max_iter=500; total time=  46.5s\n",
      "[CV] END ..alpha=0.001, learning_rate=adaptive, max_iter=500; total time=  30.7s\n",
      "[CV] END ..alpha=0.001, learning_rate=adaptive, max_iter=500; total time=  47.8s\n"
     ]
    },
    {
     "name": "stderr",
     "output_type": "stream",
     "text": [
      "c:\\users\\azawada\\python\\lib\\site-packages\\sklearn\\neural_network\\_multilayer_perceptron.py:679: ConvergenceWarning: Stochastic Optimizer: Maximum iterations (50) reached and the optimization hasn't converged yet.\n",
      "  warnings.warn(\n"
     ]
    },
    {
     "name": "stdout",
     "output_type": "stream",
     "text": [
      "[CV] END ...alpha=0.001, learning_rate=constant, max_iter=50; total time=   6.8s\n"
     ]
    },
    {
     "name": "stderr",
     "output_type": "stream",
     "text": [
      "c:\\users\\azawada\\python\\lib\\site-packages\\sklearn\\neural_network\\_multilayer_perceptron.py:679: ConvergenceWarning: Stochastic Optimizer: Maximum iterations (50) reached and the optimization hasn't converged yet.\n",
      "  warnings.warn(\n"
     ]
    },
    {
     "name": "stdout",
     "output_type": "stream",
     "text": [
      "[CV] END ...alpha=0.001, learning_rate=constant, max_iter=50; total time=   5.9s\n"
     ]
    },
    {
     "name": "stderr",
     "output_type": "stream",
     "text": [
      "c:\\users\\azawada\\python\\lib\\site-packages\\sklearn\\neural_network\\_multilayer_perceptron.py:679: ConvergenceWarning: Stochastic Optimizer: Maximum iterations (50) reached and the optimization hasn't converged yet.\n",
      "  warnings.warn(\n"
     ]
    },
    {
     "name": "stdout",
     "output_type": "stream",
     "text": [
      "[CV] END ...alpha=0.001, learning_rate=constant, max_iter=50; total time=   6.1s\n"
     ]
    },
    {
     "name": "stderr",
     "output_type": "stream",
     "text": [
      "c:\\users\\azawada\\python\\lib\\site-packages\\sklearn\\neural_network\\_multilayer_perceptron.py:679: ConvergenceWarning: Stochastic Optimizer: Maximum iterations (50) reached and the optimization hasn't converged yet.\n",
      "  warnings.warn(\n"
     ]
    },
    {
     "name": "stdout",
     "output_type": "stream",
     "text": [
      "[CV] END ...alpha=0.001, learning_rate=constant, max_iter=50; total time=   5.7s\n"
     ]
    },
    {
     "name": "stderr",
     "output_type": "stream",
     "text": [
      "c:\\users\\azawada\\python\\lib\\site-packages\\sklearn\\neural_network\\_multilayer_perceptron.py:679: ConvergenceWarning: Stochastic Optimizer: Maximum iterations (50) reached and the optimization hasn't converged yet.\n",
      "  warnings.warn(\n"
     ]
    },
    {
     "name": "stdout",
     "output_type": "stream",
     "text": [
      "[CV] END ...alpha=0.001, learning_rate=constant, max_iter=50; total time=   5.7s\n"
     ]
    },
    {
     "name": "stderr",
     "output_type": "stream",
     "text": [
      "c:\\users\\azawada\\python\\lib\\site-packages\\sklearn\\neural_network\\_multilayer_perceptron.py:679: ConvergenceWarning: Stochastic Optimizer: Maximum iterations (100) reached and the optimization hasn't converged yet.\n",
      "  warnings.warn(\n"
     ]
    },
    {
     "name": "stdout",
     "output_type": "stream",
     "text": [
      "[CV] END ..alpha=0.001, learning_rate=constant, max_iter=100; total time=  11.6s\n"
     ]
    },
    {
     "name": "stderr",
     "output_type": "stream",
     "text": [
      "c:\\users\\azawada\\python\\lib\\site-packages\\sklearn\\neural_network\\_multilayer_perceptron.py:679: ConvergenceWarning: Stochastic Optimizer: Maximum iterations (100) reached and the optimization hasn't converged yet.\n",
      "  warnings.warn(\n"
     ]
    },
    {
     "name": "stdout",
     "output_type": "stream",
     "text": [
      "[CV] END ..alpha=0.001, learning_rate=constant, max_iter=100; total time=  11.5s\n"
     ]
    },
    {
     "name": "stderr",
     "output_type": "stream",
     "text": [
      "c:\\users\\azawada\\python\\lib\\site-packages\\sklearn\\neural_network\\_multilayer_perceptron.py:679: ConvergenceWarning: Stochastic Optimizer: Maximum iterations (100) reached and the optimization hasn't converged yet.\n",
      "  warnings.warn(\n"
     ]
    },
    {
     "name": "stdout",
     "output_type": "stream",
     "text": [
      "[CV] END ..alpha=0.001, learning_rate=constant, max_iter=100; total time=  11.5s\n"
     ]
    },
    {
     "name": "stderr",
     "output_type": "stream",
     "text": [
      "c:\\users\\azawada\\python\\lib\\site-packages\\sklearn\\neural_network\\_multilayer_perceptron.py:679: ConvergenceWarning: Stochastic Optimizer: Maximum iterations (100) reached and the optimization hasn't converged yet.\n",
      "  warnings.warn(\n"
     ]
    },
    {
     "name": "stdout",
     "output_type": "stream",
     "text": [
      "[CV] END ..alpha=0.001, learning_rate=constant, max_iter=100; total time=  11.6s\n"
     ]
    },
    {
     "name": "stderr",
     "output_type": "stream",
     "text": [
      "c:\\users\\azawada\\python\\lib\\site-packages\\sklearn\\neural_network\\_multilayer_perceptron.py:679: ConvergenceWarning: Stochastic Optimizer: Maximum iterations (100) reached and the optimization hasn't converged yet.\n",
      "  warnings.warn(\n"
     ]
    },
    {
     "name": "stdout",
     "output_type": "stream",
     "text": [
      "[CV] END ..alpha=0.001, learning_rate=constant, max_iter=100; total time=  13.0s\n"
     ]
    },
    {
     "name": "stderr",
     "output_type": "stream",
     "text": [
      "c:\\users\\azawada\\python\\lib\\site-packages\\sklearn\\neural_network\\_multilayer_perceptron.py:679: ConvergenceWarning: Stochastic Optimizer: Maximum iterations (300) reached and the optimization hasn't converged yet.\n",
      "  warnings.warn(\n"
     ]
    },
    {
     "name": "stdout",
     "output_type": "stream",
     "text": [
      "[CV] END ..alpha=0.001, learning_rate=constant, max_iter=300; total time=  40.2s\n"
     ]
    },
    {
     "name": "stderr",
     "output_type": "stream",
     "text": [
      "c:\\users\\azawada\\python\\lib\\site-packages\\sklearn\\neural_network\\_multilayer_perceptron.py:679: ConvergenceWarning: Stochastic Optimizer: Maximum iterations (300) reached and the optimization hasn't converged yet.\n",
      "  warnings.warn(\n"
     ]
    },
    {
     "name": "stdout",
     "output_type": "stream",
     "text": [
      "[CV] END ..alpha=0.001, learning_rate=constant, max_iter=300; total time=  34.8s\n"
     ]
    },
    {
     "name": "stderr",
     "output_type": "stream",
     "text": [
      "c:\\users\\azawada\\python\\lib\\site-packages\\sklearn\\neural_network\\_multilayer_perceptron.py:679: ConvergenceWarning: Stochastic Optimizer: Maximum iterations (300) reached and the optimization hasn't converged yet.\n",
      "  warnings.warn(\n"
     ]
    },
    {
     "name": "stdout",
     "output_type": "stream",
     "text": [
      "[CV] END ..alpha=0.001, learning_rate=constant, max_iter=300; total time=  34.8s\n"
     ]
    },
    {
     "name": "stderr",
     "output_type": "stream",
     "text": [
      "c:\\users\\azawada\\python\\lib\\site-packages\\sklearn\\neural_network\\_multilayer_perceptron.py:679: ConvergenceWarning: Stochastic Optimizer: Maximum iterations (300) reached and the optimization hasn't converged yet.\n",
      "  warnings.warn(\n"
     ]
    },
    {
     "name": "stdout",
     "output_type": "stream",
     "text": [
      "[CV] END ..alpha=0.001, learning_rate=constant, max_iter=300; total time=  40.5s\n"
     ]
    },
    {
     "name": "stderr",
     "output_type": "stream",
     "text": [
      "c:\\users\\azawada\\python\\lib\\site-packages\\sklearn\\neural_network\\_multilayer_perceptron.py:679: ConvergenceWarning: Stochastic Optimizer: Maximum iterations (300) reached and the optimization hasn't converged yet.\n",
      "  warnings.warn(\n"
     ]
    },
    {
     "name": "stdout",
     "output_type": "stream",
     "text": [
      "[CV] END ..alpha=0.001, learning_rate=constant, max_iter=300; total time=  35.7s\n",
      "[CV] END ..alpha=0.001, learning_rate=constant, max_iter=500; total time=  39.3s\n",
      "[CV] END ..alpha=0.001, learning_rate=constant, max_iter=500; total time=  55.1s\n",
      "[CV] END ..alpha=0.001, learning_rate=constant, max_iter=500; total time=  42.7s\n",
      "[CV] END ..alpha=0.001, learning_rate=constant, max_iter=500; total time=  48.1s\n",
      "[CV] END ..alpha=0.001, learning_rate=constant, max_iter=500; total time=  54.5s\n"
     ]
    },
    {
     "name": "stderr",
     "output_type": "stream",
     "text": [
      "c:\\users\\azawada\\python\\lib\\site-packages\\sklearn\\neural_network\\_multilayer_perceptron.py:679: ConvergenceWarning: Stochastic Optimizer: Maximum iterations (50) reached and the optimization hasn't converged yet.\n",
      "  warnings.warn(\n"
     ]
    },
    {
     "name": "stdout",
     "output_type": "stream",
     "text": [
      "[CV] END .....alpha=0.1, learning_rate=adaptive, max_iter=50; total time=   5.6s\n"
     ]
    },
    {
     "name": "stderr",
     "output_type": "stream",
     "text": [
      "c:\\users\\azawada\\python\\lib\\site-packages\\sklearn\\neural_network\\_multilayer_perceptron.py:679: ConvergenceWarning: Stochastic Optimizer: Maximum iterations (50) reached and the optimization hasn't converged yet.\n",
      "  warnings.warn(\n"
     ]
    },
    {
     "name": "stdout",
     "output_type": "stream",
     "text": [
      "[CV] END .....alpha=0.1, learning_rate=adaptive, max_iter=50; total time=   5.6s\n"
     ]
    },
    {
     "name": "stderr",
     "output_type": "stream",
     "text": [
      "c:\\users\\azawada\\python\\lib\\site-packages\\sklearn\\neural_network\\_multilayer_perceptron.py:679: ConvergenceWarning: Stochastic Optimizer: Maximum iterations (50) reached and the optimization hasn't converged yet.\n",
      "  warnings.warn(\n"
     ]
    },
    {
     "name": "stdout",
     "output_type": "stream",
     "text": [
      "[CV] END .....alpha=0.1, learning_rate=adaptive, max_iter=50; total time=   5.7s\n"
     ]
    },
    {
     "name": "stderr",
     "output_type": "stream",
     "text": [
      "c:\\users\\azawada\\python\\lib\\site-packages\\sklearn\\neural_network\\_multilayer_perceptron.py:679: ConvergenceWarning: Stochastic Optimizer: Maximum iterations (50) reached and the optimization hasn't converged yet.\n",
      "  warnings.warn(\n"
     ]
    },
    {
     "name": "stdout",
     "output_type": "stream",
     "text": [
      "[CV] END .....alpha=0.1, learning_rate=adaptive, max_iter=50; total time=   5.6s\n"
     ]
    },
    {
     "name": "stderr",
     "output_type": "stream",
     "text": [
      "c:\\users\\azawada\\python\\lib\\site-packages\\sklearn\\neural_network\\_multilayer_perceptron.py:679: ConvergenceWarning: Stochastic Optimizer: Maximum iterations (50) reached and the optimization hasn't converged yet.\n",
      "  warnings.warn(\n"
     ]
    },
    {
     "name": "stdout",
     "output_type": "stream",
     "text": [
      "[CV] END .....alpha=0.1, learning_rate=adaptive, max_iter=50; total time=   5.7s\n"
     ]
    },
    {
     "name": "stderr",
     "output_type": "stream",
     "text": [
      "c:\\users\\azawada\\python\\lib\\site-packages\\sklearn\\neural_network\\_multilayer_perceptron.py:679: ConvergenceWarning: Stochastic Optimizer: Maximum iterations (100) reached and the optimization hasn't converged yet.\n",
      "  warnings.warn(\n"
     ]
    },
    {
     "name": "stdout",
     "output_type": "stream",
     "text": [
      "[CV] END ....alpha=0.1, learning_rate=adaptive, max_iter=100; total time=  11.4s\n"
     ]
    },
    {
     "name": "stderr",
     "output_type": "stream",
     "text": [
      "c:\\users\\azawada\\python\\lib\\site-packages\\sklearn\\neural_network\\_multilayer_perceptron.py:679: ConvergenceWarning: Stochastic Optimizer: Maximum iterations (100) reached and the optimization hasn't converged yet.\n",
      "  warnings.warn(\n"
     ]
    },
    {
     "name": "stdout",
     "output_type": "stream",
     "text": [
      "[CV] END ....alpha=0.1, learning_rate=adaptive, max_iter=100; total time=  13.9s\n"
     ]
    },
    {
     "name": "stderr",
     "output_type": "stream",
     "text": [
      "c:\\users\\azawada\\python\\lib\\site-packages\\sklearn\\neural_network\\_multilayer_perceptron.py:679: ConvergenceWarning: Stochastic Optimizer: Maximum iterations (100) reached and the optimization hasn't converged yet.\n",
      "  warnings.warn(\n"
     ]
    },
    {
     "name": "stdout",
     "output_type": "stream",
     "text": [
      "[CV] END ....alpha=0.1, learning_rate=adaptive, max_iter=100; total time=  13.3s\n"
     ]
    },
    {
     "name": "stderr",
     "output_type": "stream",
     "text": [
      "c:\\users\\azawada\\python\\lib\\site-packages\\sklearn\\neural_network\\_multilayer_perceptron.py:679: ConvergenceWarning: Stochastic Optimizer: Maximum iterations (100) reached and the optimization hasn't converged yet.\n",
      "  warnings.warn(\n"
     ]
    },
    {
     "name": "stdout",
     "output_type": "stream",
     "text": [
      "[CV] END ....alpha=0.1, learning_rate=adaptive, max_iter=100; total time=  12.8s\n"
     ]
    },
    {
     "name": "stderr",
     "output_type": "stream",
     "text": [
      "c:\\users\\azawada\\python\\lib\\site-packages\\sklearn\\neural_network\\_multilayer_perceptron.py:679: ConvergenceWarning: Stochastic Optimizer: Maximum iterations (100) reached and the optimization hasn't converged yet.\n",
      "  warnings.warn(\n"
     ]
    },
    {
     "name": "stdout",
     "output_type": "stream",
     "text": [
      "[CV] END ....alpha=0.1, learning_rate=adaptive, max_iter=100; total time=  12.4s\n",
      "[CV] END ....alpha=0.1, learning_rate=adaptive, max_iter=300; total time=  19.8s\n",
      "[CV] END ....alpha=0.1, learning_rate=adaptive, max_iter=300; total time=  22.5s\n",
      "[CV] END ....alpha=0.1, learning_rate=adaptive, max_iter=300; total time=  30.6s\n",
      "[CV] END ....alpha=0.1, learning_rate=adaptive, max_iter=300; total time=  25.2s\n",
      "[CV] END ....alpha=0.1, learning_rate=adaptive, max_iter=300; total time=  27.5s\n",
      "[CV] END ....alpha=0.1, learning_rate=adaptive, max_iter=500; total time=  27.9s\n",
      "[CV] END ....alpha=0.1, learning_rate=adaptive, max_iter=500; total time=  21.0s\n",
      "[CV] END ....alpha=0.1, learning_rate=adaptive, max_iter=500; total time=  25.6s\n",
      "[CV] END ....alpha=0.1, learning_rate=adaptive, max_iter=500; total time=  22.2s\n",
      "[CV] END ....alpha=0.1, learning_rate=adaptive, max_iter=500; total time=  25.6s\n"
     ]
    },
    {
     "name": "stderr",
     "output_type": "stream",
     "text": [
      "c:\\users\\azawada\\python\\lib\\site-packages\\sklearn\\neural_network\\_multilayer_perceptron.py:679: ConvergenceWarning: Stochastic Optimizer: Maximum iterations (50) reached and the optimization hasn't converged yet.\n",
      "  warnings.warn(\n"
     ]
    },
    {
     "name": "stdout",
     "output_type": "stream",
     "text": [
      "[CV] END .....alpha=0.1, learning_rate=constant, max_iter=50; total time=   5.6s\n"
     ]
    },
    {
     "name": "stderr",
     "output_type": "stream",
     "text": [
      "c:\\users\\azawada\\python\\lib\\site-packages\\sklearn\\neural_network\\_multilayer_perceptron.py:679: ConvergenceWarning: Stochastic Optimizer: Maximum iterations (50) reached and the optimization hasn't converged yet.\n",
      "  warnings.warn(\n"
     ]
    },
    {
     "name": "stdout",
     "output_type": "stream",
     "text": [
      "[CV] END .....alpha=0.1, learning_rate=constant, max_iter=50; total time=   5.8s\n"
     ]
    },
    {
     "name": "stderr",
     "output_type": "stream",
     "text": [
      "c:\\users\\azawada\\python\\lib\\site-packages\\sklearn\\neural_network\\_multilayer_perceptron.py:679: ConvergenceWarning: Stochastic Optimizer: Maximum iterations (50) reached and the optimization hasn't converged yet.\n",
      "  warnings.warn(\n"
     ]
    },
    {
     "name": "stdout",
     "output_type": "stream",
     "text": [
      "[CV] END .....alpha=0.1, learning_rate=constant, max_iter=50; total time=   5.9s\n"
     ]
    },
    {
     "name": "stderr",
     "output_type": "stream",
     "text": [
      "c:\\users\\azawada\\python\\lib\\site-packages\\sklearn\\neural_network\\_multilayer_perceptron.py:679: ConvergenceWarning: Stochastic Optimizer: Maximum iterations (50) reached and the optimization hasn't converged yet.\n",
      "  warnings.warn(\n"
     ]
    },
    {
     "name": "stdout",
     "output_type": "stream",
     "text": [
      "[CV] END .....alpha=0.1, learning_rate=constant, max_iter=50; total time=   5.6s\n"
     ]
    },
    {
     "name": "stderr",
     "output_type": "stream",
     "text": [
      "c:\\users\\azawada\\python\\lib\\site-packages\\sklearn\\neural_network\\_multilayer_perceptron.py:679: ConvergenceWarning: Stochastic Optimizer: Maximum iterations (50) reached and the optimization hasn't converged yet.\n",
      "  warnings.warn(\n"
     ]
    },
    {
     "name": "stdout",
     "output_type": "stream",
     "text": [
      "[CV] END .....alpha=0.1, learning_rate=constant, max_iter=50; total time=   5.6s\n"
     ]
    },
    {
     "name": "stderr",
     "output_type": "stream",
     "text": [
      "c:\\users\\azawada\\python\\lib\\site-packages\\sklearn\\neural_network\\_multilayer_perceptron.py:679: ConvergenceWarning: Stochastic Optimizer: Maximum iterations (100) reached and the optimization hasn't converged yet.\n",
      "  warnings.warn(\n"
     ]
    },
    {
     "name": "stdout",
     "output_type": "stream",
     "text": [
      "[CV] END ....alpha=0.1, learning_rate=constant, max_iter=100; total time=  11.2s\n"
     ]
    },
    {
     "name": "stderr",
     "output_type": "stream",
     "text": [
      "c:\\users\\azawada\\python\\lib\\site-packages\\sklearn\\neural_network\\_multilayer_perceptron.py:679: ConvergenceWarning: Stochastic Optimizer: Maximum iterations (100) reached and the optimization hasn't converged yet.\n",
      "  warnings.warn(\n"
     ]
    },
    {
     "name": "stdout",
     "output_type": "stream",
     "text": [
      "[CV] END ....alpha=0.1, learning_rate=constant, max_iter=100; total time=  11.3s\n"
     ]
    },
    {
     "name": "stderr",
     "output_type": "stream",
     "text": [
      "c:\\users\\azawada\\python\\lib\\site-packages\\sklearn\\neural_network\\_multilayer_perceptron.py:679: ConvergenceWarning: Stochastic Optimizer: Maximum iterations (100) reached and the optimization hasn't converged yet.\n",
      "  warnings.warn(\n"
     ]
    },
    {
     "name": "stdout",
     "output_type": "stream",
     "text": [
      "[CV] END ....alpha=0.1, learning_rate=constant, max_iter=100; total time=  11.4s\n"
     ]
    },
    {
     "name": "stderr",
     "output_type": "stream",
     "text": [
      "c:\\users\\azawada\\python\\lib\\site-packages\\sklearn\\neural_network\\_multilayer_perceptron.py:679: ConvergenceWarning: Stochastic Optimizer: Maximum iterations (100) reached and the optimization hasn't converged yet.\n",
      "  warnings.warn(\n"
     ]
    },
    {
     "name": "stdout",
     "output_type": "stream",
     "text": [
      "[CV] END ....alpha=0.1, learning_rate=constant, max_iter=100; total time=  12.9s\n"
     ]
    },
    {
     "name": "stderr",
     "output_type": "stream",
     "text": [
      "c:\\users\\azawada\\python\\lib\\site-packages\\sklearn\\neural_network\\_multilayer_perceptron.py:679: ConvergenceWarning: Stochastic Optimizer: Maximum iterations (100) reached and the optimization hasn't converged yet.\n",
      "  warnings.warn(\n"
     ]
    },
    {
     "name": "stdout",
     "output_type": "stream",
     "text": [
      "[CV] END ....alpha=0.1, learning_rate=constant, max_iter=100; total time=  13.5s\n",
      "[CV] END ....alpha=0.1, learning_rate=constant, max_iter=300; total time=  31.4s\n",
      "[CV] END ....alpha=0.1, learning_rate=constant, max_iter=300; total time=  29.0s\n",
      "[CV] END ....alpha=0.1, learning_rate=constant, max_iter=300; total time=  24.5s\n",
      "[CV] END ....alpha=0.1, learning_rate=constant, max_iter=300; total time=  31.0s\n",
      "[CV] END ....alpha=0.1, learning_rate=constant, max_iter=300; total time=  26.3s\n",
      "[CV] END ....alpha=0.1, learning_rate=constant, max_iter=500; total time=  30.8s\n",
      "[CV] END ....alpha=0.1, learning_rate=constant, max_iter=500; total time=  26.0s\n",
      "[CV] END ....alpha=0.1, learning_rate=constant, max_iter=500; total time=  23.9s\n",
      "[CV] END ....alpha=0.1, learning_rate=constant, max_iter=500; total time=  31.6s\n",
      "[CV] END ....alpha=0.1, learning_rate=constant, max_iter=500; total time=  21.3s\n"
     ]
    },
    {
     "name": "stderr",
     "output_type": "stream",
     "text": [
      "c:\\users\\azawada\\python\\lib\\site-packages\\sklearn\\neural_network\\_multilayer_perceptron.py:679: ConvergenceWarning: Stochastic Optimizer: Maximum iterations (50) reached and the optimization hasn't converged yet.\n",
      "  warnings.warn(\n"
     ]
    },
    {
     "name": "stdout",
     "output_type": "stream",
     "text": [
      "[CV] END .....alpha=0.5, learning_rate=adaptive, max_iter=50; total time=   5.6s\n"
     ]
    },
    {
     "name": "stderr",
     "output_type": "stream",
     "text": [
      "c:\\users\\azawada\\python\\lib\\site-packages\\sklearn\\neural_network\\_multilayer_perceptron.py:679: ConvergenceWarning: Stochastic Optimizer: Maximum iterations (50) reached and the optimization hasn't converged yet.\n",
      "  warnings.warn(\n"
     ]
    },
    {
     "name": "stdout",
     "output_type": "stream",
     "text": [
      "[CV] END .....alpha=0.5, learning_rate=adaptive, max_iter=50; total time=   5.5s\n"
     ]
    },
    {
     "name": "stderr",
     "output_type": "stream",
     "text": [
      "c:\\users\\azawada\\python\\lib\\site-packages\\sklearn\\neural_network\\_multilayer_perceptron.py:679: ConvergenceWarning: Stochastic Optimizer: Maximum iterations (50) reached and the optimization hasn't converged yet.\n",
      "  warnings.warn(\n"
     ]
    },
    {
     "name": "stdout",
     "output_type": "stream",
     "text": [
      "[CV] END .....alpha=0.5, learning_rate=adaptive, max_iter=50; total time=   6.0s\n"
     ]
    },
    {
     "name": "stderr",
     "output_type": "stream",
     "text": [
      "c:\\users\\azawada\\python\\lib\\site-packages\\sklearn\\neural_network\\_multilayer_perceptron.py:679: ConvergenceWarning: Stochastic Optimizer: Maximum iterations (50) reached and the optimization hasn't converged yet.\n",
      "  warnings.warn(\n"
     ]
    },
    {
     "name": "stdout",
     "output_type": "stream",
     "text": [
      "[CV] END .....alpha=0.5, learning_rate=adaptive, max_iter=50; total time=   5.5s\n"
     ]
    },
    {
     "name": "stderr",
     "output_type": "stream",
     "text": [
      "c:\\users\\azawada\\python\\lib\\site-packages\\sklearn\\neural_network\\_multilayer_perceptron.py:679: ConvergenceWarning: Stochastic Optimizer: Maximum iterations (50) reached and the optimization hasn't converged yet.\n",
      "  warnings.warn(\n"
     ]
    },
    {
     "name": "stdout",
     "output_type": "stream",
     "text": [
      "[CV] END .....alpha=0.5, learning_rate=adaptive, max_iter=50; total time=   5.6s\n",
      "[CV] END ....alpha=0.5, learning_rate=adaptive, max_iter=100; total time=   6.9s\n",
      "[CV] END ....alpha=0.5, learning_rate=adaptive, max_iter=100; total time=   9.4s\n"
     ]
    },
    {
     "name": "stderr",
     "output_type": "stream",
     "text": [
      "c:\\users\\azawada\\python\\lib\\site-packages\\sklearn\\neural_network\\_multilayer_perceptron.py:679: ConvergenceWarning: Stochastic Optimizer: Maximum iterations (100) reached and the optimization hasn't converged yet.\n",
      "  warnings.warn(\n"
     ]
    },
    {
     "name": "stdout",
     "output_type": "stream",
     "text": [
      "[CV] END ....alpha=0.5, learning_rate=adaptive, max_iter=100; total time=  12.2s\n",
      "[CV] END ....alpha=0.5, learning_rate=adaptive, max_iter=100; total time=   7.2s\n",
      "[CV] END ....alpha=0.5, learning_rate=adaptive, max_iter=100; total time=   8.0s\n",
      "[CV] END ....alpha=0.5, learning_rate=adaptive, max_iter=300; total time=   9.9s\n",
      "[CV] END ....alpha=0.5, learning_rate=adaptive, max_iter=300; total time=   9.3s\n",
      "[CV] END ....alpha=0.5, learning_rate=adaptive, max_iter=300; total time=   7.9s\n",
      "[CV] END ....alpha=0.5, learning_rate=adaptive, max_iter=300; total time=   8.3s\n",
      "[CV] END ....alpha=0.5, learning_rate=adaptive, max_iter=300; total time=   7.0s\n",
      "[CV] END ....alpha=0.5, learning_rate=adaptive, max_iter=500; total time=   6.9s\n",
      "[CV] END ....alpha=0.5, learning_rate=adaptive, max_iter=500; total time=   6.1s\n",
      "[CV] END ....alpha=0.5, learning_rate=adaptive, max_iter=500; total time=   8.1s\n",
      "[CV] END ....alpha=0.5, learning_rate=adaptive, max_iter=500; total time=   8.6s\n",
      "[CV] END ....alpha=0.5, learning_rate=adaptive, max_iter=500; total time=   7.2s\n"
     ]
    },
    {
     "name": "stderr",
     "output_type": "stream",
     "text": [
      "c:\\users\\azawada\\python\\lib\\site-packages\\sklearn\\neural_network\\_multilayer_perceptron.py:679: ConvergenceWarning: Stochastic Optimizer: Maximum iterations (50) reached and the optimization hasn't converged yet.\n",
      "  warnings.warn(\n"
     ]
    },
    {
     "name": "stdout",
     "output_type": "stream",
     "text": [
      "[CV] END .....alpha=0.5, learning_rate=constant, max_iter=50; total time=   5.5s\n"
     ]
    },
    {
     "name": "stderr",
     "output_type": "stream",
     "text": [
      "c:\\users\\azawada\\python\\lib\\site-packages\\sklearn\\neural_network\\_multilayer_perceptron.py:679: ConvergenceWarning: Stochastic Optimizer: Maximum iterations (50) reached and the optimization hasn't converged yet.\n",
      "  warnings.warn(\n"
     ]
    },
    {
     "name": "stdout",
     "output_type": "stream",
     "text": [
      "[CV] END .....alpha=0.5, learning_rate=constant, max_iter=50; total time=   5.6s\n"
     ]
    },
    {
     "name": "stderr",
     "output_type": "stream",
     "text": [
      "c:\\users\\azawada\\python\\lib\\site-packages\\sklearn\\neural_network\\_multilayer_perceptron.py:679: ConvergenceWarning: Stochastic Optimizer: Maximum iterations (50) reached and the optimization hasn't converged yet.\n",
      "  warnings.warn(\n"
     ]
    },
    {
     "name": "stdout",
     "output_type": "stream",
     "text": [
      "[CV] END .....alpha=0.5, learning_rate=constant, max_iter=50; total time=   5.5s\n"
     ]
    },
    {
     "name": "stderr",
     "output_type": "stream",
     "text": [
      "c:\\users\\azawada\\python\\lib\\site-packages\\sklearn\\neural_network\\_multilayer_perceptron.py:679: ConvergenceWarning: Stochastic Optimizer: Maximum iterations (50) reached and the optimization hasn't converged yet.\n",
      "  warnings.warn(\n"
     ]
    },
    {
     "name": "stdout",
     "output_type": "stream",
     "text": [
      "[CV] END .....alpha=0.5, learning_rate=constant, max_iter=50; total time=   5.5s\n"
     ]
    },
    {
     "name": "stderr",
     "output_type": "stream",
     "text": [
      "c:\\users\\azawada\\python\\lib\\site-packages\\sklearn\\neural_network\\_multilayer_perceptron.py:679: ConvergenceWarning: Stochastic Optimizer: Maximum iterations (50) reached and the optimization hasn't converged yet.\n",
      "  warnings.warn(\n"
     ]
    },
    {
     "name": "stdout",
     "output_type": "stream",
     "text": [
      "[CV] END .....alpha=0.5, learning_rate=constant, max_iter=50; total time=   6.2s\n",
      "[CV] END ....alpha=0.5, learning_rate=constant, max_iter=100; total time=  10.6s\n",
      "[CV] END ....alpha=0.5, learning_rate=constant, max_iter=100; total time=   8.3s\n",
      "[CV] END ....alpha=0.5, learning_rate=constant, max_iter=100; total time=  12.0s\n",
      "[CV] END ....alpha=0.5, learning_rate=constant, max_iter=100; total time=   8.6s\n"
     ]
    },
    {
     "name": "stderr",
     "output_type": "stream",
     "text": [
      "c:\\users\\azawada\\python\\lib\\site-packages\\sklearn\\neural_network\\_multilayer_perceptron.py:679: ConvergenceWarning: Stochastic Optimizer: Maximum iterations (100) reached and the optimization hasn't converged yet.\n",
      "  warnings.warn(\n"
     ]
    },
    {
     "name": "stdout",
     "output_type": "stream",
     "text": [
      "[CV] END ....alpha=0.5, learning_rate=constant, max_iter=100; total time=  12.1s\n",
      "[CV] END ....alpha=0.5, learning_rate=constant, max_iter=300; total time=   8.8s\n",
      "[CV] END ....alpha=0.5, learning_rate=constant, max_iter=300; total time=   9.1s\n",
      "[CV] END ....alpha=0.5, learning_rate=constant, max_iter=300; total time=   8.6s\n",
      "[CV] END ....alpha=0.5, learning_rate=constant, max_iter=300; total time=   6.3s\n",
      "[CV] END ....alpha=0.5, learning_rate=constant, max_iter=300; total time=   8.9s\n",
      "[CV] END ....alpha=0.5, learning_rate=constant, max_iter=500; total time=  10.4s\n",
      "[CV] END ....alpha=0.5, learning_rate=constant, max_iter=500; total time=   5.7s\n",
      "[CV] END ....alpha=0.5, learning_rate=constant, max_iter=500; total time=   6.9s\n",
      "[CV] END ....alpha=0.5, learning_rate=constant, max_iter=500; total time=  12.0s\n",
      "[CV] END ....alpha=0.5, learning_rate=constant, max_iter=500; total time=  11.0s\n"
     ]
    },
    {
     "name": "stderr",
     "output_type": "stream",
     "text": [
      "c:\\users\\azawada\\python\\lib\\site-packages\\sklearn\\neural_network\\_multilayer_perceptron.py:679: ConvergenceWarning: Stochastic Optimizer: Maximum iterations (50) reached and the optimization hasn't converged yet.\n",
      "  warnings.warn(\n"
     ]
    },
    {
     "name": "stdout",
     "output_type": "stream",
     "text": [
      "[CV] END .......alpha=1, learning_rate=adaptive, max_iter=50; total time=   6.4s\n",
      "[CV] END .......alpha=1, learning_rate=adaptive, max_iter=50; total time=   4.9s\n"
     ]
    },
    {
     "name": "stderr",
     "output_type": "stream",
     "text": [
      "c:\\users\\azawada\\python\\lib\\site-packages\\sklearn\\neural_network\\_multilayer_perceptron.py:679: ConvergenceWarning: Stochastic Optimizer: Maximum iterations (50) reached and the optimization hasn't converged yet.\n",
      "  warnings.warn(\n"
     ]
    },
    {
     "name": "stdout",
     "output_type": "stream",
     "text": [
      "[CV] END .......alpha=1, learning_rate=adaptive, max_iter=50; total time=   6.2s\n",
      "[CV] END .......alpha=1, learning_rate=adaptive, max_iter=50; total time=   5.2s\n"
     ]
    },
    {
     "name": "stderr",
     "output_type": "stream",
     "text": [
      "c:\\users\\azawada\\python\\lib\\site-packages\\sklearn\\neural_network\\_multilayer_perceptron.py:679: ConvergenceWarning: Stochastic Optimizer: Maximum iterations (50) reached and the optimization hasn't converged yet.\n",
      "  warnings.warn(\n"
     ]
    },
    {
     "name": "stdout",
     "output_type": "stream",
     "text": [
      "[CV] END .......alpha=1, learning_rate=adaptive, max_iter=50; total time=   5.5s\n",
      "[CV] END ......alpha=1, learning_rate=adaptive, max_iter=100; total time=   5.8s\n",
      "[CV] END ......alpha=1, learning_rate=adaptive, max_iter=100; total time=   6.9s\n",
      "[CV] END ......alpha=1, learning_rate=adaptive, max_iter=100; total time=   8.7s\n",
      "[CV] END ......alpha=1, learning_rate=adaptive, max_iter=100; total time=   7.5s\n",
      "[CV] END ......alpha=1, learning_rate=adaptive, max_iter=100; total time=   6.0s\n",
      "[CV] END ......alpha=1, learning_rate=adaptive, max_iter=300; total time=   6.4s\n",
      "[CV] END ......alpha=1, learning_rate=adaptive, max_iter=300; total time=   4.8s\n",
      "[CV] END ......alpha=1, learning_rate=adaptive, max_iter=300; total time=   7.4s\n",
      "[CV] END ......alpha=1, learning_rate=adaptive, max_iter=300; total time=   6.9s\n",
      "[CV] END ......alpha=1, learning_rate=adaptive, max_iter=300; total time=  10.7s\n",
      "[CV] END ......alpha=1, learning_rate=adaptive, max_iter=500; total time=   6.0s\n",
      "[CV] END ......alpha=1, learning_rate=adaptive, max_iter=500; total time=   7.5s\n",
      "[CV] END ......alpha=1, learning_rate=adaptive, max_iter=500; total time=   5.2s\n",
      "[CV] END ......alpha=1, learning_rate=adaptive, max_iter=500; total time=   8.7s\n",
      "[CV] END ......alpha=1, learning_rate=adaptive, max_iter=500; total time=   8.4s\n"
     ]
    },
    {
     "name": "stderr",
     "output_type": "stream",
     "text": [
      "c:\\users\\azawada\\python\\lib\\site-packages\\sklearn\\neural_network\\_multilayer_perceptron.py:679: ConvergenceWarning: Stochastic Optimizer: Maximum iterations (50) reached and the optimization hasn't converged yet.\n",
      "  warnings.warn(\n"
     ]
    },
    {
     "name": "stdout",
     "output_type": "stream",
     "text": [
      "[CV] END .......alpha=1, learning_rate=constant, max_iter=50; total time=   5.5s\n"
     ]
    },
    {
     "name": "stderr",
     "output_type": "stream",
     "text": [
      "c:\\users\\azawada\\python\\lib\\site-packages\\sklearn\\neural_network\\_multilayer_perceptron.py:679: ConvergenceWarning: Stochastic Optimizer: Maximum iterations (50) reached and the optimization hasn't converged yet.\n",
      "  warnings.warn(\n"
     ]
    },
    {
     "name": "stdout",
     "output_type": "stream",
     "text": [
      "[CV] END .......alpha=1, learning_rate=constant, max_iter=50; total time=   5.5s\n",
      "[CV] END .......alpha=1, learning_rate=constant, max_iter=50; total time=   5.4s\n"
     ]
    },
    {
     "name": "stderr",
     "output_type": "stream",
     "text": [
      "c:\\users\\azawada\\python\\lib\\site-packages\\sklearn\\neural_network\\_multilayer_perceptron.py:679: ConvergenceWarning: Stochastic Optimizer: Maximum iterations (50) reached and the optimization hasn't converged yet.\n",
      "  warnings.warn(\n"
     ]
    },
    {
     "name": "stdout",
     "output_type": "stream",
     "text": [
      "[CV] END .......alpha=1, learning_rate=constant, max_iter=50; total time=   5.5s\n"
     ]
    },
    {
     "name": "stderr",
     "output_type": "stream",
     "text": [
      "c:\\users\\azawada\\python\\lib\\site-packages\\sklearn\\neural_network\\_multilayer_perceptron.py:679: ConvergenceWarning: Stochastic Optimizer: Maximum iterations (50) reached and the optimization hasn't converged yet.\n",
      "  warnings.warn(\n"
     ]
    },
    {
     "name": "stdout",
     "output_type": "stream",
     "text": [
      "[CV] END .......alpha=1, learning_rate=constant, max_iter=50; total time=   5.5s\n",
      "[CV] END ......alpha=1, learning_rate=constant, max_iter=100; total time=   6.8s\n",
      "[CV] END ......alpha=1, learning_rate=constant, max_iter=100; total time=   5.5s\n",
      "[CV] END ......alpha=1, learning_rate=constant, max_iter=100; total time=   7.5s\n",
      "[CV] END ......alpha=1, learning_rate=constant, max_iter=100; total time=   8.3s\n",
      "[CV] END ......alpha=1, learning_rate=constant, max_iter=100; total time=   7.4s\n",
      "[CV] END ......alpha=1, learning_rate=constant, max_iter=300; total time=   6.9s\n",
      "[CV] END ......alpha=1, learning_rate=constant, max_iter=300; total time=   5.6s\n",
      "[CV] END ......alpha=1, learning_rate=constant, max_iter=300; total time=   9.1s\n",
      "[CV] END ......alpha=1, learning_rate=constant, max_iter=300; total time=   5.0s\n",
      "[CV] END ......alpha=1, learning_rate=constant, max_iter=300; total time=   8.2s\n",
      "[CV] END ......alpha=1, learning_rate=constant, max_iter=500; total time=  10.6s\n",
      "[CV] END ......alpha=1, learning_rate=constant, max_iter=500; total time=   7.5s\n",
      "[CV] END ......alpha=1, learning_rate=constant, max_iter=500; total time=   6.9s\n",
      "[CV] END ......alpha=1, learning_rate=constant, max_iter=500; total time=   7.4s\n",
      "[CV] END ......alpha=1, learning_rate=constant, max_iter=500; total time=   8.0s\n",
      "[CV] END ......alpha=10, learning_rate=adaptive, max_iter=50; total time=   4.4s\n",
      "[CV] END ......alpha=10, learning_rate=adaptive, max_iter=50; total time=   2.7s\n",
      "[CV] END ......alpha=10, learning_rate=adaptive, max_iter=50; total time=   3.1s\n",
      "[CV] END ......alpha=10, learning_rate=adaptive, max_iter=50; total time=   3.4s\n",
      "[CV] END ......alpha=10, learning_rate=adaptive, max_iter=50; total time=   4.5s\n",
      "[CV] END .....alpha=10, learning_rate=adaptive, max_iter=100; total time=   3.9s\n",
      "[CV] END .....alpha=10, learning_rate=adaptive, max_iter=100; total time=   3.9s\n",
      "[CV] END .....alpha=10, learning_rate=adaptive, max_iter=100; total time=   3.7s\n",
      "[CV] END .....alpha=10, learning_rate=adaptive, max_iter=100; total time=   2.6s\n",
      "[CV] END .....alpha=10, learning_rate=adaptive, max_iter=100; total time=   2.5s\n",
      "[CV] END .....alpha=10, learning_rate=adaptive, max_iter=300; total time=   2.8s\n",
      "[CV] END .....alpha=10, learning_rate=adaptive, max_iter=300; total time=   2.8s\n",
      "[CV] END .....alpha=10, learning_rate=adaptive, max_iter=300; total time=   2.7s\n",
      "[CV] END .....alpha=10, learning_rate=adaptive, max_iter=300; total time=   2.3s\n",
      "[CV] END .....alpha=10, learning_rate=adaptive, max_iter=300; total time=   3.9s\n",
      "[CV] END .....alpha=10, learning_rate=adaptive, max_iter=500; total time=   3.1s\n",
      "[CV] END .....alpha=10, learning_rate=adaptive, max_iter=500; total time=   3.4s\n",
      "[CV] END .....alpha=10, learning_rate=adaptive, max_iter=500; total time=   3.1s\n",
      "[CV] END .....alpha=10, learning_rate=adaptive, max_iter=500; total time=   4.1s\n",
      "[CV] END .....alpha=10, learning_rate=adaptive, max_iter=500; total time=   2.3s\n",
      "[CV] END ......alpha=10, learning_rate=constant, max_iter=50; total time=   3.4s\n",
      "[CV] END ......alpha=10, learning_rate=constant, max_iter=50; total time=   3.8s\n",
      "[CV] END ......alpha=10, learning_rate=constant, max_iter=50; total time=   3.2s\n",
      "[CV] END ......alpha=10, learning_rate=constant, max_iter=50; total time=   3.1s\n",
      "[CV] END ......alpha=10, learning_rate=constant, max_iter=50; total time=   3.8s\n",
      "[CV] END .....alpha=10, learning_rate=constant, max_iter=100; total time=   2.8s\n",
      "[CV] END .....alpha=10, learning_rate=constant, max_iter=100; total time=   5.3s\n",
      "[CV] END .....alpha=10, learning_rate=constant, max_iter=100; total time=   4.2s\n",
      "[CV] END .....alpha=10, learning_rate=constant, max_iter=100; total time=   2.3s\n",
      "[CV] END .....alpha=10, learning_rate=constant, max_iter=100; total time=   4.3s\n",
      "[CV] END .....alpha=10, learning_rate=constant, max_iter=300; total time=   5.4s\n",
      "[CV] END .....alpha=10, learning_rate=constant, max_iter=300; total time=   2.8s\n",
      "[CV] END .....alpha=10, learning_rate=constant, max_iter=300; total time=   2.8s\n",
      "[CV] END .....alpha=10, learning_rate=constant, max_iter=300; total time=   3.6s\n",
      "[CV] END .....alpha=10, learning_rate=constant, max_iter=300; total time=   4.2s\n",
      "[CV] END .....alpha=10, learning_rate=constant, max_iter=500; total time=   4.9s\n",
      "[CV] END .....alpha=10, learning_rate=constant, max_iter=500; total time=   3.0s\n",
      "[CV] END .....alpha=10, learning_rate=constant, max_iter=500; total time=   4.1s\n",
      "[CV] END .....alpha=10, learning_rate=constant, max_iter=500; total time=   4.1s\n",
      "[CV] END .....alpha=10, learning_rate=constant, max_iter=500; total time=   4.2s\n"
     ]
    },
    {
     "name": "stderr",
     "output_type": "stream",
     "text": [
      "c:\\users\\azawada\\python\\lib\\site-packages\\sklearn\\neural_network\\_multilayer_perceptron.py:679: ConvergenceWarning: Stochastic Optimizer: Maximum iterations (50) reached and the optimization hasn't converged yet.\n",
      "  warnings.warn(\n"
     ]
    },
    {
     "data": {
      "text/html": [
       "<style>#sk-container-id-4 {color: black;background-color: white;}#sk-container-id-4 pre{padding: 0;}#sk-container-id-4 div.sk-toggleable {background-color: white;}#sk-container-id-4 label.sk-toggleable__label {cursor: pointer;display: block;width: 100%;margin-bottom: 0;padding: 0.3em;box-sizing: border-box;text-align: center;}#sk-container-id-4 label.sk-toggleable__label-arrow:before {content: \"▸\";float: left;margin-right: 0.25em;color: #696969;}#sk-container-id-4 label.sk-toggleable__label-arrow:hover:before {color: black;}#sk-container-id-4 div.sk-estimator:hover label.sk-toggleable__label-arrow:before {color: black;}#sk-container-id-4 div.sk-toggleable__content {max-height: 0;max-width: 0;overflow: hidden;text-align: left;background-color: #f0f8ff;}#sk-container-id-4 div.sk-toggleable__content pre {margin: 0.2em;color: black;border-radius: 0.25em;background-color: #f0f8ff;}#sk-container-id-4 input.sk-toggleable__control:checked~div.sk-toggleable__content {max-height: 200px;max-width: 100%;overflow: auto;}#sk-container-id-4 input.sk-toggleable__control:checked~label.sk-toggleable__label-arrow:before {content: \"▾\";}#sk-container-id-4 div.sk-estimator input.sk-toggleable__control:checked~label.sk-toggleable__label {background-color: #d4ebff;}#sk-container-id-4 div.sk-label input.sk-toggleable__control:checked~label.sk-toggleable__label {background-color: #d4ebff;}#sk-container-id-4 input.sk-hidden--visually {border: 0;clip: rect(1px 1px 1px 1px);clip: rect(1px, 1px, 1px, 1px);height: 1px;margin: -1px;overflow: hidden;padding: 0;position: absolute;width: 1px;}#sk-container-id-4 div.sk-estimator {font-family: monospace;background-color: #f0f8ff;border: 1px dotted black;border-radius: 0.25em;box-sizing: border-box;margin-bottom: 0.5em;}#sk-container-id-4 div.sk-estimator:hover {background-color: #d4ebff;}#sk-container-id-4 div.sk-parallel-item::after {content: \"\";width: 100%;border-bottom: 1px solid gray;flex-grow: 1;}#sk-container-id-4 div.sk-label:hover label.sk-toggleable__label {background-color: #d4ebff;}#sk-container-id-4 div.sk-serial::before {content: \"\";position: absolute;border-left: 1px solid gray;box-sizing: border-box;top: 0;bottom: 0;left: 50%;z-index: 0;}#sk-container-id-4 div.sk-serial {display: flex;flex-direction: column;align-items: center;background-color: white;padding-right: 0.2em;padding-left: 0.2em;position: relative;}#sk-container-id-4 div.sk-item {position: relative;z-index: 1;}#sk-container-id-4 div.sk-parallel {display: flex;align-items: stretch;justify-content: center;background-color: white;position: relative;}#sk-container-id-4 div.sk-item::before, #sk-container-id-4 div.sk-parallel-item::before {content: \"\";position: absolute;border-left: 1px solid gray;box-sizing: border-box;top: 0;bottom: 0;left: 50%;z-index: -1;}#sk-container-id-4 div.sk-parallel-item {display: flex;flex-direction: column;z-index: 1;position: relative;background-color: white;}#sk-container-id-4 div.sk-parallel-item:first-child::after {align-self: flex-end;width: 50%;}#sk-container-id-4 div.sk-parallel-item:last-child::after {align-self: flex-start;width: 50%;}#sk-container-id-4 div.sk-parallel-item:only-child::after {width: 0;}#sk-container-id-4 div.sk-dashed-wrapped {border: 1px dashed gray;margin: 0 0.4em 0.5em 0.4em;box-sizing: border-box;padding-bottom: 0.4em;background-color: white;}#sk-container-id-4 div.sk-label label {font-family: monospace;font-weight: bold;display: inline-block;line-height: 1.2em;}#sk-container-id-4 div.sk-label-container {text-align: center;}#sk-container-id-4 div.sk-container {/* jupyter's `normalize.less` sets `[hidden] { display: none; }` but bootstrap.min.css set `[hidden] { display: none !important; }` so we also need the `!important` here to be able to override the default hidden behavior on the sphinx rendered scikit-learn.org. See: https://github.com/scikit-learn/scikit-learn/issues/21755 */display: inline-block !important;position: relative;}#sk-container-id-4 div.sk-text-repr-fallback {display: none;}</style><div id=\"sk-container-id-4\" class=\"sk-top-container\"><div class=\"sk-text-repr-fallback\"><pre>GridSearchCV(estimator=MLPClassifier(),\n",
       "             param_grid={&#x27;alpha&#x27;: [0.001, 0.1, 0.5, 1, 10],\n",
       "                         &#x27;learning_rate&#x27;: [&#x27;adaptive&#x27;, &#x27;constant&#x27;],\n",
       "                         &#x27;max_iter&#x27;: [50, 100, 300, 500]},\n",
       "             verbose=2)</pre><b>In a Jupyter environment, please rerun this cell to show the HTML representation or trust the notebook. <br />On GitHub, the HTML representation is unable to render, please try loading this page with nbviewer.org.</b></div><div class=\"sk-container\" hidden><div class=\"sk-item sk-dashed-wrapped\"><div class=\"sk-label-container\"><div class=\"sk-label sk-toggleable\"><input class=\"sk-toggleable__control sk-hidden--visually\" id=\"sk-estimator-id-8\" type=\"checkbox\" ><label for=\"sk-estimator-id-8\" class=\"sk-toggleable__label sk-toggleable__label-arrow\">GridSearchCV</label><div class=\"sk-toggleable__content\"><pre>GridSearchCV(estimator=MLPClassifier(),\n",
       "             param_grid={&#x27;alpha&#x27;: [0.001, 0.1, 0.5, 1, 10],\n",
       "                         &#x27;learning_rate&#x27;: [&#x27;adaptive&#x27;, &#x27;constant&#x27;],\n",
       "                         &#x27;max_iter&#x27;: [50, 100, 300, 500]},\n",
       "             verbose=2)</pre></div></div></div><div class=\"sk-parallel\"><div class=\"sk-parallel-item\"><div class=\"sk-item\"><div class=\"sk-label-container\"><div class=\"sk-label sk-toggleable\"><input class=\"sk-toggleable__control sk-hidden--visually\" id=\"sk-estimator-id-9\" type=\"checkbox\" ><label for=\"sk-estimator-id-9\" class=\"sk-toggleable__label sk-toggleable__label-arrow\">estimator: MLPClassifier</label><div class=\"sk-toggleable__content\"><pre>MLPClassifier()</pre></div></div></div><div class=\"sk-serial\"><div class=\"sk-item\"><div class=\"sk-estimator sk-toggleable\"><input class=\"sk-toggleable__control sk-hidden--visually\" id=\"sk-estimator-id-10\" type=\"checkbox\" ><label for=\"sk-estimator-id-10\" class=\"sk-toggleable__label sk-toggleable__label-arrow\">MLPClassifier</label><div class=\"sk-toggleable__content\"><pre>MLPClassifier()</pre></div></div></div></div></div></div></div></div></div></div>"
      ],
      "text/plain": [
       "GridSearchCV(estimator=MLPClassifier(),\n",
       "             param_grid={'alpha': [0.001, 0.1, 0.5, 1, 10],\n",
       "                         'learning_rate': ['adaptive', 'constant'],\n",
       "                         'max_iter': [50, 100, 300, 500]},\n",
       "             verbose=2)"
      ]
     },
     "execution_count": 122,
     "metadata": {},
     "output_type": "execute_result"
    }
   ],
   "source": [
    "params = {'max_iter':[50,100,300,500], 'learning_rate':['adaptive','constant'], 'alpha':[0.001, 0.1,0.5,1,10]}\n",
    "mlp = MLPClassifier()\n",
    "\n",
    "grid = GridSearchCV(estimator=mlp,\n",
    "             param_grid=params, verbose=2)\n",
    "grid.fit(X_train_sc, y_train)"
   ]
  },
  {
   "cell_type": "code",
   "execution_count": 123,
   "id": "17463d25",
   "metadata": {},
   "outputs": [
    {
     "data": {
      "text/plain": [
       "0.7833"
      ]
     },
     "execution_count": 123,
     "metadata": {},
     "output_type": "execute_result"
    }
   ],
   "source": [
    "grid.best_score_ "
   ]
  },
  {
   "cell_type": "code",
   "execution_count": 124,
   "id": "5d1cfcd1",
   "metadata": {},
   "outputs": [
    {
     "data": {
      "text/plain": [
       "{'alpha': 0.5, 'learning_rate': 'constant', 'max_iter': 50}"
      ]
     },
     "execution_count": 124,
     "metadata": {},
     "output_type": "execute_result"
    }
   ],
   "source": [
    "grid.best_params_"
   ]
  },
  {
   "cell_type": "markdown",
   "id": "410ba3ce",
   "metadata": {},
   "source": [
    "## CONCLUSION"
   ]
  },
  {
   "cell_type": "code",
   "execution_count": 125,
   "id": "42261b9c",
   "metadata": {},
   "outputs": [],
   "source": [
    "#the best score for test data is 0.78 for MultiLayerPerceptron Classfier\n",
    "#we could also try to apply gridSearch for RandomForest but considering all the models it'd be hard to improve performance"
   ]
  },
  {
   "cell_type": "code",
   "execution_count": null,
   "id": "ec708b0c",
   "metadata": {},
   "outputs": [],
   "source": []
  }
 ],
 "metadata": {
  "kernelspec": {
   "display_name": "Python 3 (ipykernel)",
   "language": "python",
   "name": "python3"
  },
  "language_info": {
   "codemirror_mode": {
    "name": "ipython",
    "version": 3
   },
   "file_extension": ".py",
   "mimetype": "text/x-python",
   "name": "python",
   "nbconvert_exporter": "python",
   "pygments_lexer": "ipython3",
   "version": "3.9.0"
  }
 },
 "nbformat": 4,
 "nbformat_minor": 5
}
